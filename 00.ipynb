{
 "cells": [
  {
   "cell_type": "code",
   "execution_count": null,
   "id": "e1b2c357-371c-4b1e-8cdf-2054f204974e",
   "metadata": {
    "colab": {
     "base_uri": "https://localhost:8080/"
    },
    "id": "e1b2c357-371c-4b1e-8cdf-2054f204974e",
    "outputId": "2b27224b-4522-4cdf-c78d-dd7c0f4316c9"
   },
   "outputs": [
    {
     "name": "stdout",
     "output_type": "stream",
     "text": [
      "--2022-09-06 06:01:18--  https://raw.githubusercontent.com/tripathysagar/ODIA_HUMAN_NUMBER/main/odia_digits.csv\n",
      "Resolving raw.githubusercontent.com (raw.githubusercontent.com)... 185.199.108.133, 185.199.109.133, 185.199.110.133, ...\n",
      "Connecting to raw.githubusercontent.com (raw.githubusercontent.com)|185.199.108.133|:443... connected.\n",
      "HTTP request sent, awaiting response... 200 OK\n",
      "Length: 1025379 (1001K) [text/plain]\n",
      "Saving to: ‘odia_digits.csv’\n",
      "\n",
      "odia_digits.csv     100%[===================>]   1001K  --.-KB/s    in 0.05s   \n",
      "\n",
      "2022-09-06 06:01:18 (20.6 MB/s) - ‘odia_digits.csv’ saved [1025379/1025379]\n",
      "\n"
     ]
    }
   ],
   "source": [
    "#!wget https://raw.githubusercontent.com/tripathysagar/ODIA_HUMAN_NUMBER/main/odia_digits.csv"
   ]
  },
  {
   "cell_type": "code",
   "execution_count": 2,
   "id": "85e07e10-6d78-4ebd-a670-21129906323d",
   "metadata": {
    "id": "85e07e10-6d78-4ebd-a670-21129906323d"
   },
   "outputs": [],
   "source": [
    "from fastai.text.all import *\n",
    "from fastai.imports import *"
   ]
  },
  {
   "cell_type": "code",
   "execution_count": 3,
   "id": "8378eda2-0b9b-4a83-9b84-d3d3e016db78",
   "metadata": {
    "colab": {
     "base_uri": "https://localhost:8080/"
    },
    "id": "8378eda2-0b9b-4a83-9b84-d3d3e016db78",
    "outputId": "a46aef1b-2540-429b-c1db-cbe0cfbbdc1a"
   },
   "outputs": [
    {
     "data": {
      "text/plain": [
       "(#3) [Path('00.ipynb'),Path('odia_digits.csv'),Path('.ipynb_checkpoints')]"
      ]
     },
     "execution_count": 3,
     "metadata": {},
     "output_type": "execute_result"
    }
   ],
   "source": [
    "Path().ls()"
   ]
  },
  {
   "cell_type": "code",
   "execution_count": 4,
   "id": "cb7ede78-5121-420e-9500-4c724a3d0450",
   "metadata": {
    "colab": {
     "base_uri": "https://localhost:8080/",
     "height": 306
    },
    "id": "cb7ede78-5121-420e-9500-4c724a3d0450",
    "outputId": "7ed6fa8d-d10a-473c-8d3b-ce6e15261ab8"
   },
   "outputs": [
    {
     "data": {
      "text/html": [
       "<div>\n",
       "<style scoped>\n",
       "    .dataframe tbody tr th:only-of-type {\n",
       "        vertical-align: middle;\n",
       "    }\n",
       "\n",
       "    .dataframe tbody tr th {\n",
       "        vertical-align: top;\n",
       "    }\n",
       "\n",
       "    .dataframe thead th {\n",
       "        text-align: right;\n",
       "    }\n",
       "</style>\n",
       "<table border=\"1\" class=\"dataframe\">\n",
       "  <thead>\n",
       "    <tr style=\"text-align: right;\">\n",
       "      <th></th>\n",
       "      <th>0</th>\n",
       "      <th>1</th>\n",
       "      <th>2</th>\n",
       "      <th>3</th>\n",
       "      <th>4</th>\n",
       "      <th>5</th>\n",
       "      <th>6</th>\n",
       "      <th>7</th>\n",
       "      <th>8</th>\n",
       "      <th>9</th>\n",
       "      <th>...</th>\n",
       "      <th>10091</th>\n",
       "      <th>10092</th>\n",
       "      <th>10093</th>\n",
       "      <th>10094</th>\n",
       "      <th>10095</th>\n",
       "      <th>10096</th>\n",
       "      <th>10097</th>\n",
       "      <th>10098</th>\n",
       "      <th>10099</th>\n",
       "      <th>10100</th>\n",
       "    </tr>\n",
       "  </thead>\n",
       "  <tbody>\n",
       "    <tr>\n",
       "      <th>0</th>\n",
       "      <td>୦</td>\n",
       "      <td>୧</td>\n",
       "      <td>୨</td>\n",
       "      <td>୩</td>\n",
       "      <td>୪</td>\n",
       "      <td>୫</td>\n",
       "      <td>୬</td>\n",
       "      <td>୭</td>\n",
       "      <td>୮</td>\n",
       "      <td>୯</td>\n",
       "      <td>...</td>\n",
       "      <td>୧୦୦୯୧</td>\n",
       "      <td>୧୦୦୯୨</td>\n",
       "      <td>୧୦୦୯୩</td>\n",
       "      <td>୧୦୦୯୪</td>\n",
       "      <td>୧୦୦୯୫</td>\n",
       "      <td>୧୦୦୯୬</td>\n",
       "      <td>୧୦୦୯୭</td>\n",
       "      <td>୧୦୦୯୮</td>\n",
       "      <td>୧୦୦୯୯</td>\n",
       "      <td>୧୦୧୦୦</td>\n",
       "    </tr>\n",
       "    <tr>\n",
       "      <th>1</th>\n",
       "      <td>ଶୁନ୍ୟ</td>\n",
       "      <td>ଏକ</td>\n",
       "      <td>ଦୁଇ</td>\n",
       "      <td>ତିନି</td>\n",
       "      <td>ଚାରି</td>\n",
       "      <td>ପାଞ୍ଚ</td>\n",
       "      <td>ଛଅ</td>\n",
       "      <td>ସାତ</td>\n",
       "      <td>ଆଠ</td>\n",
       "      <td>ନଅ</td>\n",
       "      <td>...</td>\n",
       "      <td>ଦଶ ହଜାର ଏକାନବେ</td>\n",
       "      <td>ଦଶ ହଜାର ବୟାନବେ</td>\n",
       "      <td>ଦଶ ହଜାର ତେୟାନବେ</td>\n",
       "      <td>ଦଶ ହଜାର ଚଉରାନବେ</td>\n",
       "      <td>ଦଶ ହଜାର ପଞ୍ଚାନବେ</td>\n",
       "      <td>ଦଶ ହଜାର ଛୟାନବେ</td>\n",
       "      <td>ଦଶ ହଜାର ସତାନବେ</td>\n",
       "      <td>ଦଶ ହଜାର ଅଠାନବେ</td>\n",
       "      <td>ଦଶ ହଜାର ଅନେଶତ</td>\n",
       "      <td>ଦଶ ହଜାର ଶହେ</td>\n",
       "    </tr>\n",
       "    <tr>\n",
       "      <th>2</th>\n",
       "      <td>śunẏa</td>\n",
       "      <td>eka</td>\n",
       "      <td>dui</td>\n",
       "      <td>tini</td>\n",
       "      <td>cāri</td>\n",
       "      <td>pāṅca</td>\n",
       "      <td>chaa</td>\n",
       "      <td>sāta</td>\n",
       "      <td>āṭha</td>\n",
       "      <td>naa</td>\n",
       "      <td>...</td>\n",
       "      <td>daśa hajār ekānabe</td>\n",
       "      <td>daśa hajār baẏānabe</td>\n",
       "      <td>daśa hajār teẏānabe</td>\n",
       "      <td>daśa hajār caurānabe</td>\n",
       "      <td>daśa hajār paṅcānabe</td>\n",
       "      <td>daśa hajār chaẏānabe</td>\n",
       "      <td>daśa hajār satānabe</td>\n",
       "      <td>daśa hajār aṭhānabe</td>\n",
       "      <td>daśa hajār aneśata</td>\n",
       "      <td>daśa hajār śahe</td>\n",
       "    </tr>\n",
       "  </tbody>\n",
       "</table>\n",
       "<p>3 rows × 10103 columns</p>\n",
       "</div>"
      ],
      "text/plain": [
       "       0    1    2     3     4      5     6     7     8    9  ...  \\\n",
       "0      ୦    ୧    ୨     ୩     ୪      ୫     ୬     ୭     ୮    ୯  ...   \n",
       "1  ଶୁନ୍ୟ   ଏକ  ଦୁଇ  ତିନି  ଚାରି  ପାଞ୍ଚ    ଛଅ   ସାତ    ଆଠ   ନଅ  ...   \n",
       "2  śunẏa  eka  dui  tini  cāri  pāṅca  chaa  sāta  āṭha  naa  ...   \n",
       "\n",
       "                10091                10092                10093  \\\n",
       "0               ୧୦୦୯୧                ୧୦୦୯୨                ୧୦୦୯୩   \n",
       "1      ଦଶ ହଜାର ଏକାନବେ       ଦଶ ହଜାର ବୟାନବେ      ଦଶ ହଜାର ତେୟାନବେ   \n",
       "2  daśa hajār ekānabe  daśa hajār baẏānabe  daśa hajār teẏānabe   \n",
       "\n",
       "                  10094                 10095                 10096  \\\n",
       "0                 ୧୦୦୯୪                 ୧୦୦୯୫                 ୧୦୦୯୬   \n",
       "1       ଦଶ ହଜାର ଚଉରାନବେ      ଦଶ ହଜାର ପଞ୍ଚାନବେ        ଦଶ ହଜାର ଛୟାନବେ   \n",
       "2  daśa hajār caurānabe  daśa hajār paṅcānabe  daśa hajār chaẏānabe   \n",
       "\n",
       "                 10097                10098               10099  \\\n",
       "0                ୧୦୦୯୭                ୧୦୦୯୮               ୧୦୦୯୯   \n",
       "1       ଦଶ ହଜାର ସତାନବେ       ଦଶ ହଜାର ଅଠାନବେ       ଦଶ ହଜାର ଅନେଶତ   \n",
       "2  daśa hajār satānabe  daśa hajār aṭhānabe  daśa hajār aneśata   \n",
       "\n",
       "             10100  \n",
       "0            ୧୦୧୦୦  \n",
       "1      ଦଶ ହଜାର ଶହେ  \n",
       "2  daśa hajār śahe  \n",
       "\n",
       "[3 rows x 10103 columns]"
      ]
     },
     "execution_count": 4,
     "metadata": {},
     "output_type": "execute_result"
    }
   ],
   "source": [
    "df = pd.read_csv(Path('odia_digits.csv'), low_memory=False)\n",
    "df.head()"
   ]
  },
  {
   "cell_type": "code",
   "execution_count": 5,
   "id": "1a4621f0-e792-4a2b-8f79-a619436c1e5e",
   "metadata": {
    "id": "1a4621f0-e792-4a2b-8f79-a619436c1e5e"
   },
   "outputs": [],
   "source": [
    "txt = L(df.iloc[1].tolist())"
   ]
  },
  {
   "cell_type": "code",
   "execution_count": 6,
   "id": "a86e5238-a5e3-4c6c-b5a6-3a3c211b0cd5",
   "metadata": {
    "colab": {
     "base_uri": "https://localhost:8080/"
    },
    "id": "a86e5238-a5e3-4c6c-b5a6-3a3c211b0cd5",
    "outputId": "17376e8a-fdc2-47f7-8aef-1e70806e09db"
   },
   "outputs": [
    {
     "data": {
      "text/plain": [
       "(#10103) ['ଶୁନ୍ୟ','ଏକ','ଦୁଇ','ତିନି','ଚାରି','ପାଞ୍ଚ','ଛଅ','ସାତ','ଆଠ','ନଅ'...]"
      ]
     },
     "execution_count": 6,
     "metadata": {},
     "output_type": "execute_result"
    }
   ],
   "source": [
    "txt"
   ]
  },
  {
   "cell_type": "code",
   "execution_count": 7,
   "id": "a01b542b-0c4d-41b6-9097-6ed6fa4ff132",
   "metadata": {
    "colab": {
     "base_uri": "https://localhost:8080/",
     "height": 36
    },
    "id": "a01b542b-0c4d-41b6-9097-6ed6fa4ff132",
    "outputId": "7fb23aac-cb11-4410-f8ce-4252b759c255"
   },
   "outputs": [
    {
     "data": {
      "text/plain": [
       "'ନଅ ଶହ ସତାନବେ'"
      ]
     },
     "execution_count": 7,
     "metadata": {},
     "output_type": "execute_result"
    }
   ],
   "source": [
    "txt[1000]"
   ]
  },
  {
   "cell_type": "code",
   "execution_count": 8,
   "id": "19c92aa6-b35c-4a04-959f-c869e41f24f4",
   "metadata": {
    "colab": {
     "base_uri": "https://localhost:8080/",
     "height": 53
    },
    "id": "19c92aa6-b35c-4a04-959f-c869e41f24f4",
    "outputId": "9f443aa7-ee64-4bd8-b88f-2e1bbaa96f3a"
   },
   "outputs": [
    {
     "data": {
      "text/plain": [
       "'ଶୁନ୍ୟ . ଏକ . ଦୁଇ . ତିନି . ଚାରି . ପାଞ୍ଚ . ଛଅ . ସାତ . ଆଠ . ନଅ . ଦଶ . ଏଗାର . ବାର . ତେର . ଚଉଦ . ପନ୍ଦର . '"
      ]
     },
     "execution_count": 8,
     "metadata": {},
     "output_type": "execute_result"
    }
   ],
   "source": [
    "text = ' . '.join([l.strip() for l in txt])\n",
    "text[:100]"
   ]
  },
  {
   "cell_type": "markdown",
   "id": "616c9868-6d07-40ca-8d4a-af41df98e42f",
   "metadata": {
    "id": "616c9868-6d07-40ca-8d4a-af41df98e42f"
   },
   "source": [
    "Now we need to tokenize the text"
   ]
  },
  {
   "cell_type": "code",
   "execution_count": 9,
   "id": "1a070082-d3a9-467a-a498-6ccf3b175fea",
   "metadata": {
    "colab": {
     "base_uri": "https://localhost:8080/"
    },
    "id": "1a070082-d3a9-467a-a498-6ccf3b175fea",
    "outputId": "b853e30e-4a6f-4c48-dcb1-51ff6209d4c8"
   },
   "outputs": [
    {
     "data": {
      "text/plain": [
       "['ଶୁନ୍ୟ', '.', 'ଏକ', '.', 'ଦୁଇ', '.', 'ତିନି', '.', 'ଚାରି', '.']"
      ]
     },
     "execution_count": 9,
     "metadata": {},
     "output_type": "execute_result"
    }
   ],
   "source": [
    "tokens = text.split(' ')\n",
    "tokens[:10]"
   ]
  },
  {
   "cell_type": "markdown",
   "id": "eaf9bb09-82fd-42f2-89a7-a17e2b5d2613",
   "metadata": {
    "id": "eaf9bb09-82fd-42f2-89a7-a17e2b5d2613"
   },
   "source": [
    "We need to fetch all the unique words "
   ]
  },
  {
   "cell_type": "code",
   "execution_count": 10,
   "id": "b2b52dd3-7f87-48a7-b6c8-6055399e2f54",
   "metadata": {
    "colab": {
     "base_uri": "https://localhost:8080/"
    },
    "id": "b2b52dd3-7f87-48a7-b6c8-6055399e2f54",
    "outputId": "210438e5-11a1-47a6-8572-32651e9c7511"
   },
   "outputs": [
    {
     "data": {
      "text/plain": [
       "(#106) ['ଶୁନ୍ୟ','.','ଏକ','ଦୁଇ','ତିନି','ଚାରି','ପାଞ୍ଚ','ଛଅ','ସାତ','ଆଠ'...]"
      ]
     },
     "execution_count": 10,
     "metadata": {},
     "output_type": "execute_result"
    }
   ],
   "source": [
    "vocab = L(*tokens).unique()\n",
    "vocab"
   ]
  },
  {
   "cell_type": "markdown",
   "id": "a988c64a-f6a7-4f1b-a0d9-9c77eda7c5ad",
   "metadata": {
    "id": "a988c64a-f6a7-4f1b-a0d9-9c77eda7c5ad"
   },
   "source": [
    "Convert each tokens to numbers"
   ]
  },
  {
   "cell_type": "code",
   "execution_count": 11,
   "id": "f355a1c2-a9ae-43d0-81a7-8a42d63ce004",
   "metadata": {
    "colab": {
     "base_uri": "https://localhost:8080/"
    },
    "id": "f355a1c2-a9ae-43d0-81a7-8a42d63ce004",
    "outputId": "b057c0e0-7d1a-4c7f-f0bd-d1f19692ccea"
   },
   "outputs": [
    {
     "data": {
      "text/plain": [
       "(#54307) [0,1,2,1,3,1,4,1,5,1...]"
      ]
     },
     "execution_count": 11,
     "metadata": {},
     "output_type": "execute_result"
    }
   ],
   "source": [
    "word2idx = {w:i for i,w in enumerate(vocab)}\n",
    "\n",
    "nums = L(word2idx[w] for w in tokens)\n",
    "nums"
   ]
  },
  {
   "cell_type": "code",
   "execution_count": 12,
   "id": "afe85051-006f-4f60-9297-3b1d49e5678d",
   "metadata": {
    "colab": {
     "base_uri": "https://localhost:8080/"
    },
    "id": "afe85051-006f-4f60-9297-3b1d49e5678d",
    "outputId": "dfc4ff46-db7d-4f15-a49a-e220371d1494"
   },
   "outputs": [
    {
     "data": {
      "text/plain": [
       "(54307, 10103)"
      ]
     },
     "execution_count": 12,
     "metadata": {},
     "output_type": "execute_result"
    }
   ],
   "source": [
    "len(tokens), len(txt)"
   ]
  },
  {
   "cell_type": "markdown",
   "id": "c8f3fa9d-12b2-4434-8276-88b297ba19b9",
   "metadata": {
    "id": "c8f3fa9d-12b2-4434-8276-88b297ba19b9"
   },
   "source": [
    "## Model from scratch"
   ]
  },
  {
   "cell_type": "code",
   "execution_count": 13,
   "id": "44765968-a6c8-4faa-bf60-ff5daa47d50a",
   "metadata": {
    "id": "44765968-a6c8-4faa-bf60-ff5daa47d50a"
   },
   "outputs": [],
   "source": [
    "def group_chunks(ds, bs):\n",
    "    m = len(ds) // bs\n",
    "    new_ds = L()\n",
    "    for i in range(m): new_ds += L(ds[i + m*j] for j in range(bs))\n",
    "    return new_ds"
   ]
  },
  {
   "cell_type": "code",
   "execution_count": 14,
   "id": "e328ae9d-c5bc-4c50-aa86-6611e564956f",
   "metadata": {
    "id": "e328ae9d-c5bc-4c50-aa86-6611e564956f"
   },
   "outputs": [],
   "source": [
    "sl = 16\n",
    "bs = 64\n",
    "seqs = L((tensor(nums[i:i+sl]), tensor(nums[i+1:i+sl+1]))\n",
    "         for i in range(0,len(nums)-sl-1,sl))\n",
    "cut = int(len(seqs) * 0.8)\n",
    "dls = DataLoaders.from_dsets(group_chunks(seqs[:cut], bs),\n",
    "                             group_chunks(seqs[cut:], bs),\n",
    "                             bs=bs, drop_last=True, shuffle=False)"
   ]
  },
  {
   "cell_type": "code",
   "execution_count": 15,
   "id": "832ef9ca-e56d-472f-aee9-d40474946f9a",
   "metadata": {
    "colab": {
     "base_uri": "https://localhost:8080/"
    },
    "id": "832ef9ca-e56d-472f-aee9-d40474946f9a",
    "outputId": "83329477-3394-4fe5-ba9d-273247592a38"
   },
   "outputs": [
    {
     "data": {
      "text/plain": [
       "(tensor([0, 1, 2, 1, 3, 1, 4, 1, 5, 1, 6, 1, 7, 1, 8, 1]),\n",
       " tensor([1, 2, 1, 3, 1, 4, 1, 5, 1, 6, 1, 7, 1, 8, 1, 9]))"
      ]
     },
     "execution_count": 15,
     "metadata": {},
     "output_type": "execute_result"
    }
   ],
   "source": [
    "seqs[0]"
   ]
  },
  {
   "cell_type": "code",
   "execution_count": 16,
   "id": "75f1ded1-465d-4f68-b21a-c0801999d600",
   "metadata": {
    "id": "75f1ded1-465d-4f68-b21a-c0801999d600"
   },
   "outputs": [],
   "source": [
    "x,y = dls.train.one_batch()"
   ]
  },
  {
   "cell_type": "code",
   "execution_count": 17,
   "id": "84e07e14-d5c0-4901-ad0d-091426d0aaf6",
   "metadata": {
    "colab": {
     "base_uri": "https://localhost:8080/"
    },
    "id": "84e07e14-d5c0-4901-ad0d-091426d0aaf6",
    "outputId": "f60c5405-fde5-42ed-c723-3812c12545ee"
   },
   "outputs": [
    {
     "data": {
      "text/plain": [
       "(tensor([0, 1, 2, 1, 3, 1, 4, 1, 5, 1, 6, 1, 7, 1, 8, 1]),\n",
       " tensor([1, 2, 1, 3, 1, 4, 1, 5, 1, 6, 1, 7, 1, 8, 1, 9]))"
      ]
     },
     "execution_count": 17,
     "metadata": {},
     "output_type": "execute_result"
    }
   ],
   "source": [
    "x[0],y[0]"
   ]
  },
  {
   "cell_type": "code",
   "execution_count": 18,
   "id": "45cb053c-1d91-498b-ae05-753adf82b6df",
   "metadata": {
    "id": "45cb053c-1d91-498b-ae05-753adf82b6df"
   },
   "outputs": [],
   "source": [
    "class LMModel1(Module):\n",
    "    def __init__(self, vocab_sz, n_hidden):\n",
    "        self.i_h = nn.Embedding(vocab_sz, n_hidden)  \n",
    "        self.h_h = nn.Linear(n_hidden, n_hidden)     \n",
    "        self.h_o = nn.Linear(n_hidden,vocab_sz)\n",
    "        self.h = 0\n",
    "        \n",
    "    def forward(self, x):\n",
    "        outs = []\n",
    "        for i in range(sl):\n",
    "            self.h = self.h + self.i_h(x[:,i])\n",
    "            self.h = F.relu(self.h_h(self.h))\n",
    "            outs.append(self.h_o(self.h))\n",
    "        self.h = self.h.detach()\n",
    "        return torch.stack(outs, dim=1)\n",
    "    \n",
    "    def reset(self): self.h = 0"
   ]
  },
  {
   "cell_type": "code",
   "execution_count": 19,
   "id": "2OO8X3_haEOi",
   "metadata": {
    "id": "2OO8X3_haEOi"
   },
   "outputs": [],
   "source": [
    "model =  LMModel1(len(vocab), 64)"
   ]
  },
  {
   "cell_type": "code",
   "execution_count": 20,
   "id": "mbiGvVRTaKtc",
   "metadata": {
    "colab": {
     "base_uri": "https://localhost:8080/"
    },
    "id": "mbiGvVRTaKtc",
    "outputId": "deb4eaac-0a2c-4782-90ca-74ba534647ec"
   },
   "outputs": [
    {
     "data": {
      "text/plain": [
       "LMModel4(\n",
       "  (i_h): Embedding(106, 64)\n",
       "  (h_h): Linear(in_features=64, out_features=64, bias=True)\n",
       "  (h_o): Linear(in_features=64, out_features=106, bias=True)\n",
       ")"
      ]
     },
     "execution_count": 20,
     "metadata": {},
     "output_type": "execute_result"
    }
   ],
   "source": [
    "model"
   ]
  },
  {
   "cell_type": "code",
   "execution_count": 21,
   "id": "G1PhbEczaN6E",
   "metadata": {
    "colab": {
     "base_uri": "https://localhost:8080/"
    },
    "id": "G1PhbEczaN6E",
    "outputId": "d02b4b17-8a32-47f3-c71b-4a5f4c982152"
   },
   "outputs": [
    {
     "data": {
      "text/plain": [
       "torch.Size([64, 16, 106])"
      ]
     },
     "execution_count": 21,
     "metadata": {},
     "output_type": "execute_result"
    }
   ],
   "source": [
    "ypred = model(x)\n",
    "ypred.shape"
   ]
  },
  {
   "cell_type": "code",
   "execution_count": 22,
   "id": "daIq3KeAivDY",
   "metadata": {
    "colab": {
     "base_uri": "https://localhost:8080/"
    },
    "id": "daIq3KeAivDY",
    "outputId": "74b5a3f0-c320-446e-c4c8-12af9f4abc5e"
   },
   "outputs": [
    {
     "data": {
      "text/plain": [
       "(torch.Size([1024, 106]), torch.Size([1024]))"
      ]
     },
     "execution_count": 22,
     "metadata": {},
     "output_type": "execute_result"
    }
   ],
   "source": [
    "ypred.view(-1, len(vocab)).shape,y.view(-1).shape"
   ]
  },
  {
   "cell_type": "code",
   "execution_count": 23,
   "id": "lUH2cODBga_q",
   "metadata": {
    "id": "lUH2cODBga_q"
   },
   "outputs": [],
   "source": [
    "\n",
    "def loss_func(inp, targ):\n",
    "    return F.cross_entropy(inp.view(-1, len(vocab)), targ.view(-1))"
   ]
  },
  {
   "cell_type": "code",
   "execution_count": 24,
   "id": "e5462eea-62c7-4f51-b7f2-c8822044b384",
   "metadata": {
    "colab": {
     "base_uri": "https://localhost:8080/",
     "height": 426
    },
    "id": "e5462eea-62c7-4f51-b7f2-c8822044b384",
    "outputId": "25f50eb1-4c39-4c51-89de-add269d846a5"
   },
   "outputs": [
    {
     "data": {
      "text/html": [
       "\n",
       "<style>\n",
       "    /* Turns off some styling */\n",
       "    progress {\n",
       "        /* gets rid of default border in Firefox and Opera. */\n",
       "        border: none;\n",
       "        /* Needs to be in here for Safari polyfill so background images work as expected. */\n",
       "        background-size: auto;\n",
       "    }\n",
       "    .progress-bar-interrupted, .progress-bar-interrupted::-webkit-progress-bar {\n",
       "        background: #F44336;\n",
       "    }\n",
       "</style>\n"
      ],
      "text/plain": [
       "<IPython.core.display.HTML object>"
      ]
     },
     "metadata": {},
     "output_type": "display_data"
    },
    {
     "data": {
      "text/html": [
       "<table border=\"1\" class=\"dataframe\">\n",
       "  <thead>\n",
       "    <tr style=\"text-align: left;\">\n",
       "      <th>epoch</th>\n",
       "      <th>train_loss</th>\n",
       "      <th>valid_loss</th>\n",
       "      <th>accuracy</th>\n",
       "      <th>time</th>\n",
       "    </tr>\n",
       "  </thead>\n",
       "  <tbody>\n",
       "    <tr>\n",
       "      <td>0</td>\n",
       "      <td>4.323726</td>\n",
       "      <td>3.882199</td>\n",
       "      <td>0.302539</td>\n",
       "      <td>00:01</td>\n",
       "    </tr>\n",
       "    <tr>\n",
       "      <td>1</td>\n",
       "      <td>2.902801</td>\n",
       "      <td>2.255141</td>\n",
       "      <td>0.491699</td>\n",
       "      <td>00:01</td>\n",
       "    </tr>\n",
       "    <tr>\n",
       "      <td>2</td>\n",
       "      <td>2.160651</td>\n",
       "      <td>2.180123</td>\n",
       "      <td>0.519531</td>\n",
       "      <td>00:01</td>\n",
       "    </tr>\n",
       "    <tr>\n",
       "      <td>3</td>\n",
       "      <td>1.785717</td>\n",
       "      <td>2.173019</td>\n",
       "      <td>0.536328</td>\n",
       "      <td>00:01</td>\n",
       "    </tr>\n",
       "    <tr>\n",
       "      <td>4</td>\n",
       "      <td>1.558127</td>\n",
       "      <td>2.212782</td>\n",
       "      <td>0.572266</td>\n",
       "      <td>00:01</td>\n",
       "    </tr>\n",
       "    <tr>\n",
       "      <td>5</td>\n",
       "      <td>1.361721</td>\n",
       "      <td>2.008071</td>\n",
       "      <td>0.575000</td>\n",
       "      <td>00:01</td>\n",
       "    </tr>\n",
       "    <tr>\n",
       "      <td>6</td>\n",
       "      <td>1.214927</td>\n",
       "      <td>2.072815</td>\n",
       "      <td>0.598437</td>\n",
       "      <td>00:01</td>\n",
       "    </tr>\n",
       "    <tr>\n",
       "      <td>7</td>\n",
       "      <td>1.112465</td>\n",
       "      <td>2.041016</td>\n",
       "      <td>0.624219</td>\n",
       "      <td>00:01</td>\n",
       "    </tr>\n",
       "    <tr>\n",
       "      <td>8</td>\n",
       "      <td>1.029655</td>\n",
       "      <td>2.079587</td>\n",
       "      <td>0.631152</td>\n",
       "      <td>00:01</td>\n",
       "    </tr>\n",
       "    <tr>\n",
       "      <td>9</td>\n",
       "      <td>0.976579</td>\n",
       "      <td>2.055110</td>\n",
       "      <td>0.635059</td>\n",
       "      <td>00:01</td>\n",
       "    </tr>\n",
       "    <tr>\n",
       "      <td>10</td>\n",
       "      <td>0.944095</td>\n",
       "      <td>1.984483</td>\n",
       "      <td>0.633398</td>\n",
       "      <td>00:01</td>\n",
       "    </tr>\n",
       "    <tr>\n",
       "      <td>11</td>\n",
       "      <td>0.922380</td>\n",
       "      <td>1.992036</td>\n",
       "      <td>0.633398</td>\n",
       "      <td>00:01</td>\n",
       "    </tr>\n",
       "  </tbody>\n",
       "</table>"
      ],
      "text/plain": [
       "<IPython.core.display.HTML object>"
      ]
     },
     "metadata": {},
     "output_type": "display_data"
    }
   ],
   "source": [
    "learn = Learner(dls, LMModel1(len(vocab), 64), loss_func=loss_func,\n",
    "                metrics=accuracy, cbs=ModelResetter)\n",
    "learn.fit_one_cycle(12, 3e-3)"
   ]
  },
  {
   "cell_type": "markdown",
   "id": "e469597b-a7ff-4711-9da1-89151c21baf1",
   "metadata": {
    "id": "0mU8IfJ9tBj9"
   },
   "source": [
    "## using RNN"
   ]
  },
  {
   "cell_type": "code",
   "execution_count": 63,
   "id": "5599ce24-9808-4379-af58-c15cbb2bf160",
   "metadata": {},
   "outputs": [],
   "source": [
    "class LMModel2(Module):\n",
    "    def __init__(self, vocab_sz, n_hidden, n_layers):\n",
    "        self.i_h = nn.Embedding(vocab_sz, n_hidden)\n",
    "        self.rnn = nn.RNN(n_hidden, n_hidden, n_layers, batch_first=True)\n",
    "        self.h_o = nn.Linear(n_hidden, vocab_sz)\n",
    "        self.h = torch.zeros(n_layers, bs, n_hidden)\n",
    "        \n",
    "    def forward(self, x):\n",
    "        res,h = self.rnn(self.i_h(x), self.h)\n",
    "        self.h = h.detach()\n",
    "        return self.h_o(res)\n",
    "    \n",
    "    def reset(self): self.h.zero_()"
   ]
  },
  {
   "cell_type": "code",
   "execution_count": 64,
   "id": "ae46b03f-c870-451a-aa4d-bbafa3d7ccd6",
   "metadata": {},
   "outputs": [
    {
     "data": {
      "text/html": [
       "\n",
       "<style>\n",
       "    /* Turns off some styling */\n",
       "    progress {\n",
       "        /* gets rid of default border in Firefox and Opera. */\n",
       "        border: none;\n",
       "        /* Needs to be in here for Safari polyfill so background images work as expected. */\n",
       "        background-size: auto;\n",
       "    }\n",
       "    .progress-bar-interrupted, .progress-bar-interrupted::-webkit-progress-bar {\n",
       "        background: #F44336;\n",
       "    }\n",
       "</style>\n"
      ],
      "text/plain": [
       "<IPython.core.display.HTML object>"
      ]
     },
     "metadata": {},
     "output_type": "display_data"
    },
    {
     "data": {
      "text/html": [
       "<table border=\"1\" class=\"dataframe\">\n",
       "  <thead>\n",
       "    <tr style=\"text-align: left;\">\n",
       "      <th>epoch</th>\n",
       "      <th>train_loss</th>\n",
       "      <th>valid_loss</th>\n",
       "      <th>accuracy</th>\n",
       "      <th>time</th>\n",
       "    </tr>\n",
       "  </thead>\n",
       "  <tbody>\n",
       "    <tr>\n",
       "      <td>0</td>\n",
       "      <td>4.378177</td>\n",
       "      <td>3.808223</td>\n",
       "      <td>0.491211</td>\n",
       "      <td>00:01</td>\n",
       "    </tr>\n",
       "    <tr>\n",
       "      <td>1</td>\n",
       "      <td>3.077233</td>\n",
       "      <td>2.087778</td>\n",
       "      <td>0.503711</td>\n",
       "      <td>00:01</td>\n",
       "    </tr>\n",
       "    <tr>\n",
       "      <td>2</td>\n",
       "      <td>2.275347</td>\n",
       "      <td>2.136118</td>\n",
       "      <td>0.357812</td>\n",
       "      <td>00:01</td>\n",
       "    </tr>\n",
       "    <tr>\n",
       "      <td>3</td>\n",
       "      <td>1.887508</td>\n",
       "      <td>1.935111</td>\n",
       "      <td>0.521191</td>\n",
       "      <td>00:01</td>\n",
       "    </tr>\n",
       "    <tr>\n",
       "      <td>4</td>\n",
       "      <td>1.639909</td>\n",
       "      <td>1.972819</td>\n",
       "      <td>0.538086</td>\n",
       "      <td>00:01</td>\n",
       "    </tr>\n",
       "    <tr>\n",
       "      <td>5</td>\n",
       "      <td>1.455208</td>\n",
       "      <td>1.934910</td>\n",
       "      <td>0.561621</td>\n",
       "      <td>00:01</td>\n",
       "    </tr>\n",
       "    <tr>\n",
       "      <td>6</td>\n",
       "      <td>1.294418</td>\n",
       "      <td>1.947430</td>\n",
       "      <td>0.584766</td>\n",
       "      <td>00:01</td>\n",
       "    </tr>\n",
       "    <tr>\n",
       "      <td>7</td>\n",
       "      <td>1.145242</td>\n",
       "      <td>1.884344</td>\n",
       "      <td>0.588672</td>\n",
       "      <td>00:01</td>\n",
       "    </tr>\n",
       "    <tr>\n",
       "      <td>8</td>\n",
       "      <td>1.023596</td>\n",
       "      <td>1.877620</td>\n",
       "      <td>0.584180</td>\n",
       "      <td>00:01</td>\n",
       "    </tr>\n",
       "    <tr>\n",
       "      <td>9</td>\n",
       "      <td>0.937111</td>\n",
       "      <td>1.877796</td>\n",
       "      <td>0.586230</td>\n",
       "      <td>00:01</td>\n",
       "    </tr>\n",
       "    <tr>\n",
       "      <td>10</td>\n",
       "      <td>0.875167</td>\n",
       "      <td>1.833430</td>\n",
       "      <td>0.576758</td>\n",
       "      <td>00:01</td>\n",
       "    </tr>\n",
       "    <tr>\n",
       "      <td>11</td>\n",
       "      <td>0.833193</td>\n",
       "      <td>1.830485</td>\n",
       "      <td>0.581738</td>\n",
       "      <td>00:01</td>\n",
       "    </tr>\n",
       "    <tr>\n",
       "      <td>12</td>\n",
       "      <td>0.805479</td>\n",
       "      <td>1.831422</td>\n",
       "      <td>0.592285</td>\n",
       "      <td>00:01</td>\n",
       "    </tr>\n",
       "    <tr>\n",
       "      <td>13</td>\n",
       "      <td>0.788611</td>\n",
       "      <td>1.860004</td>\n",
       "      <td>0.593164</td>\n",
       "      <td>00:01</td>\n",
       "    </tr>\n",
       "    <tr>\n",
       "      <td>14</td>\n",
       "      <td>0.779355</td>\n",
       "      <td>1.858914</td>\n",
       "      <td>0.591406</td>\n",
       "      <td>00:01</td>\n",
       "    </tr>\n",
       "  </tbody>\n",
       "</table>"
      ],
      "text/plain": [
       "<IPython.core.display.HTML object>"
      ]
     },
     "metadata": {},
     "output_type": "display_data"
    }
   ],
   "source": [
    "learn = Learner(dls, LMModel2(len(vocab), 64, 2), \n",
    "                loss_func=CrossEntropyLossFlat(), \n",
    "                metrics=accuracy, cbs=ModelResetter)\n",
    "learn.fit_one_cycle(15, 3e-3)"
   ]
  },
  {
   "cell_type": "markdown",
   "id": "f830dd3a-c31f-4318-a67c-c350eb1a775e",
   "metadata": {},
   "source": [
    "## Using LSTM cell\n"
   ]
  },
  {
   "cell_type": "code",
   "execution_count": 27,
   "id": "8ccb5507-5845-4c8d-9402-6487eb3760b7",
   "metadata": {},
   "outputs": [],
   "source": [
    "emb = nn.Embedding(len(vocab), 64)"
   ]
  },
  {
   "cell_type": "code",
   "execution_count": 28,
   "id": "8e93f4a1-a6b9-4dcf-871b-49aa41f35e1d",
   "metadata": {},
   "outputs": [
    {
     "data": {
      "text/plain": [
       "torch.Size([64, 16, 64])"
      ]
     },
     "execution_count": 28,
     "metadata": {},
     "output_type": "execute_result"
    }
   ],
   "source": [
    "emb(x).shape"
   ]
  },
  {
   "cell_type": "code",
   "execution_count": 29,
   "id": "904943f6-3d4e-4891-9a92-db05c2e334bc",
   "metadata": {},
   "outputs": [
    {
     "data": {
      "text/plain": [
       "2"
      ]
     },
     "execution_count": 29,
     "metadata": {},
     "output_type": "execute_result"
    }
   ],
   "source": [
    "len([torch.zeros(10,10) for _ in range(2)])"
   ]
  },
  {
   "cell_type": "code",
   "execution_count": 71,
   "id": "55b04a20-2371-4498-836b-bf67ba7bc136",
   "metadata": {},
   "outputs": [],
   "source": [
    "class LMModel3(Module):\n",
    "    def __init__(self, vocab_sz, n_hidden, n_layers):\n",
    "        self.ih = nn.Embedding(vocab_sz, n_hidden)\n",
    "        self.rnn = nn.LSTM(n_hidden, n_hidden, n_layers, batch_first = True)\n",
    "        self.ho = nn.Linear(n_hidden, vocab_sz)\n",
    "        self.h = [torch.zeros(n_layers, bs, n_hidden) for _ in range(n_layers)]\n",
    "    \n",
    "    def forward(self, x):\n",
    "        res, h = self.rnn(self.ih(x), self.h) # returns resedual and hidden state\n",
    "        #print(res.shape)\n",
    "        self.h = [h_.detach() for h_ in h]  # delete the derivative part\n",
    "        \n",
    "        \n",
    "        return self.ho(res)\n",
    "    \n",
    "    def reset(self):\n",
    "        for h in self.h: h.zero_()\n",
    "    "
   ]
  },
  {
   "cell_type": "code",
   "execution_count": 72,
   "id": "a2b567a6-cd26-486c-aa58-19df9d35d106",
   "metadata": {},
   "outputs": [
    {
     "data": {
      "text/plain": [
       "LMModel3(\n",
       "  (ih): Embedding(106, 64)\n",
       "  (rnn): LSTM(64, 64, num_layers=2, batch_first=True)\n",
       "  (ho): Linear(in_features=64, out_features=106, bias=True)\n",
       ")"
      ]
     },
     "execution_count": 72,
     "metadata": {},
     "output_type": "execute_result"
    }
   ],
   "source": [
    "model = LMModel3(len(vocab), 64, 2)\n",
    "model"
   ]
  },
  {
   "cell_type": "code",
   "execution_count": 73,
   "id": "3f1c456c-3209-474a-8c1e-b52c750c8ab7",
   "metadata": {},
   "outputs": [
    {
     "data": {
      "text/plain": [
       "(torch.Size([64, 16]), torch.Size([64, 16]))"
      ]
     },
     "execution_count": 73,
     "metadata": {},
     "output_type": "execute_result"
    }
   ],
   "source": [
    "x.shape, y.shape"
   ]
  },
  {
   "cell_type": "code",
   "execution_count": 74,
   "id": "293ce11d-7b75-4516-9142-7471e4444f1e",
   "metadata": {},
   "outputs": [
    {
     "data": {
      "text/plain": [
       "torch.Size([64, 16, 106])"
      ]
     },
     "execution_count": 74,
     "metadata": {},
     "output_type": "execute_result"
    }
   ],
   "source": [
    "model(x).shape"
   ]
  },
  {
   "cell_type": "code",
   "execution_count": 75,
   "id": "0032afbd-0c27-49e4-9125-0796cf6c9c85",
   "metadata": {},
   "outputs": [
    {
     "data": {
      "text/html": [
       "\n",
       "<style>\n",
       "    /* Turns off some styling */\n",
       "    progress {\n",
       "        /* gets rid of default border in Firefox and Opera. */\n",
       "        border: none;\n",
       "        /* Needs to be in here for Safari polyfill so background images work as expected. */\n",
       "        background-size: auto;\n",
       "    }\n",
       "    .progress-bar-interrupted, .progress-bar-interrupted::-webkit-progress-bar {\n",
       "        background: #F44336;\n",
       "    }\n",
       "</style>\n"
      ],
      "text/plain": [
       "<IPython.core.display.HTML object>"
      ]
     },
     "metadata": {},
     "output_type": "display_data"
    },
    {
     "data": {
      "text/html": [
       "<table border=\"1\" class=\"dataframe\">\n",
       "  <thead>\n",
       "    <tr style=\"text-align: left;\">\n",
       "      <th>epoch</th>\n",
       "      <th>train_loss</th>\n",
       "      <th>valid_loss</th>\n",
       "      <th>accuracy</th>\n",
       "      <th>time</th>\n",
       "    </tr>\n",
       "  </thead>\n",
       "  <tbody>\n",
       "    <tr>\n",
       "      <td>0</td>\n",
       "      <td>4.081848</td>\n",
       "      <td>3.196913</td>\n",
       "      <td>0.171387</td>\n",
       "      <td>00:02</td>\n",
       "    </tr>\n",
       "    <tr>\n",
       "      <td>1</td>\n",
       "      <td>3.193907</td>\n",
       "      <td>2.536864</td>\n",
       "      <td>0.480469</td>\n",
       "      <td>00:02</td>\n",
       "    </tr>\n",
       "    <tr>\n",
       "      <td>2</td>\n",
       "      <td>2.339758</td>\n",
       "      <td>2.290623</td>\n",
       "      <td>0.418066</td>\n",
       "      <td>00:03</td>\n",
       "    </tr>\n",
       "    <tr>\n",
       "      <td>3</td>\n",
       "      <td>1.969868</td>\n",
       "      <td>2.409519</td>\n",
       "      <td>0.419434</td>\n",
       "      <td>00:02</td>\n",
       "    </tr>\n",
       "    <tr>\n",
       "      <td>4</td>\n",
       "      <td>1.767846</td>\n",
       "      <td>2.064037</td>\n",
       "      <td>0.513770</td>\n",
       "      <td>00:02</td>\n",
       "    </tr>\n",
       "    <tr>\n",
       "      <td>5</td>\n",
       "      <td>1.597283</td>\n",
       "      <td>2.090909</td>\n",
       "      <td>0.507227</td>\n",
       "      <td>00:02</td>\n",
       "    </tr>\n",
       "    <tr>\n",
       "      <td>6</td>\n",
       "      <td>1.436880</td>\n",
       "      <td>2.139480</td>\n",
       "      <td>0.561719</td>\n",
       "      <td>00:03</td>\n",
       "    </tr>\n",
       "    <tr>\n",
       "      <td>7</td>\n",
       "      <td>1.330632</td>\n",
       "      <td>2.258411</td>\n",
       "      <td>0.518555</td>\n",
       "      <td>00:02</td>\n",
       "    </tr>\n",
       "    <tr>\n",
       "      <td>8</td>\n",
       "      <td>1.247113</td>\n",
       "      <td>2.228344</td>\n",
       "      <td>0.543164</td>\n",
       "      <td>00:02</td>\n",
       "    </tr>\n",
       "    <tr>\n",
       "      <td>9</td>\n",
       "      <td>1.158608</td>\n",
       "      <td>2.309157</td>\n",
       "      <td>0.495313</td>\n",
       "      <td>00:02</td>\n",
       "    </tr>\n",
       "    <tr>\n",
       "      <td>10</td>\n",
       "      <td>1.066211</td>\n",
       "      <td>2.138747</td>\n",
       "      <td>0.504687</td>\n",
       "      <td>00:02</td>\n",
       "    </tr>\n",
       "    <tr>\n",
       "      <td>11</td>\n",
       "      <td>0.982483</td>\n",
       "      <td>2.072457</td>\n",
       "      <td>0.516699</td>\n",
       "      <td>00:02</td>\n",
       "    </tr>\n",
       "    <tr>\n",
       "      <td>12</td>\n",
       "      <td>0.929257</td>\n",
       "      <td>2.088489</td>\n",
       "      <td>0.494141</td>\n",
       "      <td>00:02</td>\n",
       "    </tr>\n",
       "    <tr>\n",
       "      <td>13</td>\n",
       "      <td>0.896423</td>\n",
       "      <td>2.129569</td>\n",
       "      <td>0.502344</td>\n",
       "      <td>00:02</td>\n",
       "    </tr>\n",
       "    <tr>\n",
       "      <td>14</td>\n",
       "      <td>0.878877</td>\n",
       "      <td>2.121466</td>\n",
       "      <td>0.512891</td>\n",
       "      <td>00:02</td>\n",
       "    </tr>\n",
       "  </tbody>\n",
       "</table>"
      ],
      "text/plain": [
       "<IPython.core.display.HTML object>"
      ]
     },
     "metadata": {},
     "output_type": "display_data"
    }
   ],
   "source": [
    "learn = Learner(dls, LMModel3(len(vocab), 64, 2), \n",
    "                loss_func=CrossEntropyLossFlat(), \n",
    "                metrics=accuracy, cbs=ModelResetter)\n",
    "learn.fit_one_cycle(15, 1e-2)"
   ]
  },
  {
   "cell_type": "code",
   "execution_count": 35,
   "id": "4d76adcf-1a7d-4e6a-b5b0-ab0f6f2402a5",
   "metadata": {},
   "outputs": [
    {
     "data": {
      "text/plain": [
       "tensor([[ 0.6994, -0.0688, -0.6969, -1.2239,  0.9241],\n",
       "        [ 0.4317, -0.3241,  0.7665,  1.2448,  1.1512],\n",
       "        [ 0.4410, -0.9058,  1.2183, -0.5550,  1.4103],\n",
       "        [ 0.4232,  1.0480,  0.4265, -0.8930, -0.6336]])"
      ]
     },
     "execution_count": 35,
     "metadata": {},
     "output_type": "execute_result"
    }
   ],
   "source": [
    "z = torch.randn(4,5)\n",
    "z"
   ]
  },
  {
   "cell_type": "code",
   "execution_count": 36,
   "id": "0fef8ae2-dd14-4e99-8d1c-28daca644133",
   "metadata": {},
   "outputs": [],
   "source": [
    "zp = z.new(z.shape)"
   ]
  },
  {
   "cell_type": "code",
   "execution_count": 37,
   "id": "5832f088-ef98-4553-8ded-a8d992b0fc2c",
   "metadata": {},
   "outputs": [
    {
     "data": {
      "text/plain": [
       "tensor([[-1.8320e-18,  4.5584e-41,  1.6375e-22,  3.0645e-41,  1.4013e-45],\n",
       "        [ 0.0000e+00,  0.0000e+00,  0.0000e+00,  0.0000e+00,  0.0000e+00],\n",
       "        [ 0.0000e+00,  0.0000e+00,  2.2813e-22,  3.0645e-41,  0.0000e+00],\n",
       "        [ 0.0000e+00,  0.0000e+00,  0.0000e+00,  2.8026e-45,  0.0000e+00]])"
      ]
     },
     "execution_count": 37,
     "metadata": {},
     "output_type": "execute_result"
    }
   ],
   "source": [
    "zp"
   ]
  },
  {
   "cell_type": "code",
   "execution_count": 38,
   "id": "b8e553ff-df2c-4069-b828-c18158565d62",
   "metadata": {},
   "outputs": [],
   "source": [
    "zpp = z.new(z.shape).bernoulli_(0.8)"
   ]
  },
  {
   "cell_type": "code",
   "execution_count": 39,
   "id": "170c73cf-47e3-42a7-bfa4-d23a5d8306f9",
   "metadata": {},
   "outputs": [
    {
     "data": {
      "text/plain": [
       "tensor([[1., 1., 0., 1., 1.],\n",
       "        [1., 1., 1., 1., 1.],\n",
       "        [1., 1., 1., 1., 1.],\n",
       "        [1., 1., 1., 0., 1.]])"
      ]
     },
     "execution_count": 39,
     "metadata": {},
     "output_type": "execute_result"
    }
   ],
   "source": [
    "zpp"
   ]
  },
  {
   "cell_type": "code",
   "execution_count": 40,
   "id": "6909a191-ba58-4e8f-bd85-2e7d67ad73ba",
   "metadata": {},
   "outputs": [
    {
     "data": {
      "text/plain": [
       "tensor([[ 0.6994, -0.0688, -0.0000, -1.2239,  0.9241],\n",
       "        [ 0.4317, -0.3241,  0.7665,  1.2448,  1.1512],\n",
       "        [ 0.4410, -0.9058,  1.2183, -0.5550,  1.4103],\n",
       "        [ 0.4232,  1.0480,  0.4265, -0.0000, -0.6336]])"
      ]
     },
     "execution_count": 40,
     "metadata": {},
     "output_type": "execute_result"
    }
   ],
   "source": [
    "z * zpp"
   ]
  },
  {
   "cell_type": "markdown",
   "id": "f2e70762-698b-4300-b74a-9013972f8f87",
   "metadata": {},
   "source": [
    "## LSTM with dropout"
   ]
  },
  {
   "cell_type": "code",
   "execution_count": 76,
   "id": "b6856e49-0bf2-4527-98c6-77b121b8a4aa",
   "metadata": {},
   "outputs": [],
   "source": [
    "class Dropout(Module):\n",
    "    def __init__(self, p):\n",
    "        self.p = p\n",
    "    \n",
    "    def forward(self,x):\n",
    "        if not self.training:\n",
    "            return x\n",
    "        \n",
    "        mask = x.new(x.shape).bernoulli_(1-self.p)\n",
    "        return x * mask.div_(1-self.p)"
   ]
  },
  {
   "cell_type": "code",
   "execution_count": 77,
   "id": "422a659f-af26-47c9-91cf-45a16fe30f7f",
   "metadata": {},
   "outputs": [],
   "source": [
    "class LMModel4(Module):\n",
    "    def __init__(self, vocab_sz, n_hidden, n_layers, p):\n",
    "        self.ih = nn.Embedding(vocab_sz, n_hidden)\n",
    "        self.rnn = nn.LSTM(n_hidden, n_hidden, n_layers, batch_first = True)\n",
    "        self.ho = nn.Linear(n_hidden, vocab_sz)\n",
    "        self.h = [torch.zeros(n_layers, bs, n_hidden) for _ in range(n_layers)]\n",
    "        \n",
    "        self.drop = Dropout(p)\n",
    "    \n",
    "    def forward(self, x):\n",
    "        res, h = self.rnn(self.ih(x), self.h) # returns resedual and hidden state\n",
    "        #print(res.shape)\n",
    "        res = self.drop(res)\n",
    "        self.h = [h_.detach() for h_ in h]  # delete the derivative part\n",
    "        \n",
    "        \n",
    "        return self.ho(res)\n",
    "    \n",
    "    def reset(self):\n",
    "        for h in self.h: h.zero_()\n",
    "    "
   ]
  },
  {
   "cell_type": "code",
   "execution_count": 79,
   "id": "79cfd6d2-2e52-418a-98d0-16e91e879c3b",
   "metadata": {},
   "outputs": [
    {
     "data": {
      "text/html": [
       "\n",
       "<style>\n",
       "    /* Turns off some styling */\n",
       "    progress {\n",
       "        /* gets rid of default border in Firefox and Opera. */\n",
       "        border: none;\n",
       "        /* Needs to be in here for Safari polyfill so background images work as expected. */\n",
       "        background-size: auto;\n",
       "    }\n",
       "    .progress-bar-interrupted, .progress-bar-interrupted::-webkit-progress-bar {\n",
       "        background: #F44336;\n",
       "    }\n",
       "</style>\n"
      ],
      "text/plain": [
       "<IPython.core.display.HTML object>"
      ]
     },
     "metadata": {},
     "output_type": "display_data"
    },
    {
     "data": {
      "text/html": [
       "<table border=\"1\" class=\"dataframe\">\n",
       "  <thead>\n",
       "    <tr style=\"text-align: left;\">\n",
       "      <th>epoch</th>\n",
       "      <th>train_loss</th>\n",
       "      <th>valid_loss</th>\n",
       "      <th>accuracy</th>\n",
       "      <th>time</th>\n",
       "    </tr>\n",
       "  </thead>\n",
       "  <tbody>\n",
       "    <tr>\n",
       "      <td>0</td>\n",
       "      <td>4.116068</td>\n",
       "      <td>3.153554</td>\n",
       "      <td>0.177344</td>\n",
       "      <td>00:02</td>\n",
       "    </tr>\n",
       "    <tr>\n",
       "      <td>1</td>\n",
       "      <td>3.154489</td>\n",
       "      <td>2.415157</td>\n",
       "      <td>0.399121</td>\n",
       "      <td>00:02</td>\n",
       "    </tr>\n",
       "    <tr>\n",
       "      <td>2</td>\n",
       "      <td>2.316478</td>\n",
       "      <td>2.136562</td>\n",
       "      <td>0.415820</td>\n",
       "      <td>00:02</td>\n",
       "    </tr>\n",
       "    <tr>\n",
       "      <td>3</td>\n",
       "      <td>1.906218</td>\n",
       "      <td>2.063506</td>\n",
       "      <td>0.489844</td>\n",
       "      <td>00:02</td>\n",
       "    </tr>\n",
       "    <tr>\n",
       "      <td>4</td>\n",
       "      <td>1.684795</td>\n",
       "      <td>2.159128</td>\n",
       "      <td>0.502051</td>\n",
       "      <td>00:02</td>\n",
       "    </tr>\n",
       "    <tr>\n",
       "      <td>5</td>\n",
       "      <td>1.540506</td>\n",
       "      <td>2.491754</td>\n",
       "      <td>0.521582</td>\n",
       "      <td>00:02</td>\n",
       "    </tr>\n",
       "    <tr>\n",
       "      <td>6</td>\n",
       "      <td>1.456420</td>\n",
       "      <td>2.998713</td>\n",
       "      <td>0.509375</td>\n",
       "      <td>00:02</td>\n",
       "    </tr>\n",
       "    <tr>\n",
       "      <td>7</td>\n",
       "      <td>1.405630</td>\n",
       "      <td>2.762923</td>\n",
       "      <td>0.509863</td>\n",
       "      <td>00:02</td>\n",
       "    </tr>\n",
       "    <tr>\n",
       "      <td>8</td>\n",
       "      <td>1.342089</td>\n",
       "      <td>3.057655</td>\n",
       "      <td>0.519531</td>\n",
       "      <td>00:02</td>\n",
       "    </tr>\n",
       "    <tr>\n",
       "      <td>9</td>\n",
       "      <td>1.267954</td>\n",
       "      <td>3.009735</td>\n",
       "      <td>0.521094</td>\n",
       "      <td>00:02</td>\n",
       "    </tr>\n",
       "    <tr>\n",
       "      <td>10</td>\n",
       "      <td>1.204592</td>\n",
       "      <td>3.022882</td>\n",
       "      <td>0.523145</td>\n",
       "      <td>00:02</td>\n",
       "    </tr>\n",
       "    <tr>\n",
       "      <td>11</td>\n",
       "      <td>1.150648</td>\n",
       "      <td>2.916674</td>\n",
       "      <td>0.542969</td>\n",
       "      <td>00:02</td>\n",
       "    </tr>\n",
       "    <tr>\n",
       "      <td>12</td>\n",
       "      <td>1.112944</td>\n",
       "      <td>3.067040</td>\n",
       "      <td>0.539746</td>\n",
       "      <td>00:02</td>\n",
       "    </tr>\n",
       "    <tr>\n",
       "      <td>13</td>\n",
       "      <td>1.086397</td>\n",
       "      <td>3.024740</td>\n",
       "      <td>0.537695</td>\n",
       "      <td>00:02</td>\n",
       "    </tr>\n",
       "    <tr>\n",
       "      <td>14</td>\n",
       "      <td>1.071905</td>\n",
       "      <td>3.031266</td>\n",
       "      <td>0.537402</td>\n",
       "      <td>00:02</td>\n",
       "    </tr>\n",
       "  </tbody>\n",
       "</table>"
      ],
      "text/plain": [
       "<IPython.core.display.HTML object>"
      ]
     },
     "metadata": {},
     "output_type": "display_data"
    }
   ],
   "source": [
    "learn = Learner(dls, LMModel4(len(vocab), 64, 2, .5), \n",
    "                loss_func=CrossEntropyLossFlat(), \n",
    "                metrics=accuracy, cbs=ModelResetter)\n",
    "learn.fit_one_cycle(15, 1e-2)"
   ]
  },
  {
   "cell_type": "markdown",
   "id": "54f86ed4-7b31-4045-8999-203b3c4cf4f9",
   "metadata": {},
   "source": [
    "## Weight tied LSTM with dropout"
   ]
  },
  {
   "cell_type": "code",
   "execution_count": 80,
   "id": "27de10e3-8515-4925-8af2-e9da0394228b",
   "metadata": {},
   "outputs": [],
   "source": [
    "class LMModel5(Module):\n",
    "    def __init__(self, vocab_sz, n_hidden, n_layers, p):\n",
    "        self.ih = nn.Embedding(vocab_sz, n_hidden)\n",
    "        self.rnn = nn.LSTM(n_hidden, n_hidden, n_layers, batch_first = True)\n",
    "        self.ho = nn.Linear(n_hidden, vocab_sz)\n",
    "        self.h = [torch.zeros(n_layers, bs, n_hidden) for _ in range(n_layers)]\n",
    "        self.ho.weight = self.ih.weight\n",
    "        self.drop = Dropout(p)\n",
    "    \n",
    "    def forward(self, x):\n",
    "        res, h = self.rnn(self.ih(x), self.h) # returns resedual and hidden state\n",
    "        #print(res.shape)\n",
    "        res = self.drop(res)\n",
    "        self.h = [h_.detach() for h_ in h]  # delete the derivative part\n",
    "        \n",
    "        \n",
    "        return self.ho(res)\n",
    "    \n",
    "    def reset(self):\n",
    "        for h in self.h: h.zero_()\n",
    "    "
   ]
  },
  {
   "cell_type": "code",
   "execution_count": 81,
   "id": "1ed8960e-67de-47c8-866a-b0a211d2ecf2",
   "metadata": {},
   "outputs": [
    {
     "data": {
      "text/html": [
       "\n",
       "<style>\n",
       "    /* Turns off some styling */\n",
       "    progress {\n",
       "        /* gets rid of default border in Firefox and Opera. */\n",
       "        border: none;\n",
       "        /* Needs to be in here for Safari polyfill so background images work as expected. */\n",
       "        background-size: auto;\n",
       "    }\n",
       "    .progress-bar-interrupted, .progress-bar-interrupted::-webkit-progress-bar {\n",
       "        background: #F44336;\n",
       "    }\n",
       "</style>\n"
      ],
      "text/plain": [
       "<IPython.core.display.HTML object>"
      ]
     },
     "metadata": {},
     "output_type": "display_data"
    },
    {
     "data": {
      "text/html": [
       "<table border=\"1\" class=\"dataframe\">\n",
       "  <thead>\n",
       "    <tr style=\"text-align: left;\">\n",
       "      <th>epoch</th>\n",
       "      <th>train_loss</th>\n",
       "      <th>valid_loss</th>\n",
       "      <th>accuracy</th>\n",
       "      <th>time</th>\n",
       "    </tr>\n",
       "  </thead>\n",
       "  <tbody>\n",
       "    <tr>\n",
       "      <td>0</td>\n",
       "      <td>3.400351</td>\n",
       "      <td>2.550270</td>\n",
       "      <td>0.485645</td>\n",
       "      <td>00:02</td>\n",
       "    </tr>\n",
       "    <tr>\n",
       "      <td>1</td>\n",
       "      <td>2.281639</td>\n",
       "      <td>1.957104</td>\n",
       "      <td>0.493066</td>\n",
       "      <td>00:02</td>\n",
       "    </tr>\n",
       "    <tr>\n",
       "      <td>2</td>\n",
       "      <td>1.521473</td>\n",
       "      <td>1.889463</td>\n",
       "      <td>0.583691</td>\n",
       "      <td>00:02</td>\n",
       "    </tr>\n",
       "    <tr>\n",
       "      <td>3</td>\n",
       "      <td>1.165506</td>\n",
       "      <td>1.879080</td>\n",
       "      <td>0.604785</td>\n",
       "      <td>00:03</td>\n",
       "    </tr>\n",
       "    <tr>\n",
       "      <td>4</td>\n",
       "      <td>1.008987</td>\n",
       "      <td>2.022314</td>\n",
       "      <td>0.638867</td>\n",
       "      <td>00:03</td>\n",
       "    </tr>\n",
       "    <tr>\n",
       "      <td>5</td>\n",
       "      <td>0.899466</td>\n",
       "      <td>1.743109</td>\n",
       "      <td>0.640039</td>\n",
       "      <td>00:03</td>\n",
       "    </tr>\n",
       "    <tr>\n",
       "      <td>6</td>\n",
       "      <td>0.754831</td>\n",
       "      <td>1.474957</td>\n",
       "      <td>0.704980</td>\n",
       "      <td>00:02</td>\n",
       "    </tr>\n",
       "    <tr>\n",
       "      <td>7</td>\n",
       "      <td>0.549911</td>\n",
       "      <td>1.233269</td>\n",
       "      <td>0.787109</td>\n",
       "      <td>00:02</td>\n",
       "    </tr>\n",
       "    <tr>\n",
       "      <td>8</td>\n",
       "      <td>0.372199</td>\n",
       "      <td>1.076970</td>\n",
       "      <td>0.801562</td>\n",
       "      <td>00:02</td>\n",
       "    </tr>\n",
       "    <tr>\n",
       "      <td>9</td>\n",
       "      <td>0.256481</td>\n",
       "      <td>1.027453</td>\n",
       "      <td>0.807617</td>\n",
       "      <td>00:03</td>\n",
       "    </tr>\n",
       "    <tr>\n",
       "      <td>10</td>\n",
       "      <td>0.188469</td>\n",
       "      <td>1.005969</td>\n",
       "      <td>0.812109</td>\n",
       "      <td>00:02</td>\n",
       "    </tr>\n",
       "    <tr>\n",
       "      <td>11</td>\n",
       "      <td>0.151564</td>\n",
       "      <td>1.034348</td>\n",
       "      <td>0.811719</td>\n",
       "      <td>00:02</td>\n",
       "    </tr>\n",
       "  </tbody>\n",
       "</table>"
      ],
      "text/plain": [
       "<IPython.core.display.HTML object>"
      ]
     },
     "metadata": {},
     "output_type": "display_data"
    }
   ],
   "source": [
    "learn = Learner(dls, LMModel5(len(vocab), 64, 2, .5), \n",
    "                loss_func=CrossEntropyLossFlat(), \n",
    "                metrics=accuracy, cbs=ModelResetter)\n",
    "learn.fit_one_cycle(12, 1e-2)"
   ]
  },
  {
   "cell_type": "markdown",
   "id": "483405fb-832f-4dc4-bc06-d5a4d9cb665b",
   "metadata": {},
   "source": [
    "## Weight tied LSTM with dropout and Regularization"
   ]
  },
  {
   "cell_type": "code",
   "execution_count": 113,
   "id": "e86188e0-44a5-4368-9bd7-90f52040ce4b",
   "metadata": {},
   "outputs": [],
   "source": [
    "class LMModel6(Module):\n",
    "    def __init__(self, vocab_sz, n_hidden, n_layers, p):\n",
    "        self.ih = nn.Embedding(vocab_sz, n_hidden)\n",
    "        self.rnn = nn.LSTM(n_hidden, n_hidden, n_layers, batch_first = True)\n",
    "        \n",
    "        self.drop = Dropout(p)\n",
    "        \n",
    "        self.ho = nn.Linear(n_hidden, vocab_sz)\n",
    "        self.ho.weight = self.ih.weight\n",
    "        self.h = [torch.zeros(n_layers, bs, n_hidden) for _ in range(n_layers)]\n",
    "        \n",
    "        \n",
    "    \n",
    "    def forward(self, x):\n",
    "        raw,h = self.rnn(self.ih(x), self.h)\n",
    "        out = self.drop(raw)\n",
    "        self.h = [h_.detach() for h_ in h]\n",
    "        return self.ho(out),raw,out\n",
    "        \n",
    "        \n",
    "    \n",
    "    def reset(self):\n",
    "        for h in self.h: h.zero_()\n",
    "    "
   ]
  },
  {
   "cell_type": "code",
   "execution_count": 114,
   "id": "f4e0cc01-8c61-41a5-a243-aefb25ca6ce5",
   "metadata": {},
   "outputs": [],
   "source": [
    "learn = TextLearner(dls, LMModel6(len(vocab), 64, 2, 0.4),\n",
    "                    loss_func=CrossEntropyLossFlat(), metrics=accuracy)"
   ]
  },
  {
   "cell_type": "code",
   "execution_count": 115,
   "id": "15b116c5-174b-45c7-9bdb-c0dcf2fa34a7",
   "metadata": {},
   "outputs": [
    {
     "data": {
      "text/html": [
       "\n",
       "<style>\n",
       "    /* Turns off some styling */\n",
       "    progress {\n",
       "        /* gets rid of default border in Firefox and Opera. */\n",
       "        border: none;\n",
       "        /* Needs to be in here for Safari polyfill so background images work as expected. */\n",
       "        background-size: auto;\n",
       "    }\n",
       "    .progress-bar-interrupted, .progress-bar-interrupted::-webkit-progress-bar {\n",
       "        background: #F44336;\n",
       "    }\n",
       "</style>\n"
      ],
      "text/plain": [
       "<IPython.core.display.HTML object>"
      ]
     },
     "metadata": {},
     "output_type": "display_data"
    },
    {
     "data": {
      "text/html": [
       "<table border=\"1\" class=\"dataframe\">\n",
       "  <thead>\n",
       "    <tr style=\"text-align: left;\">\n",
       "      <th>epoch</th>\n",
       "      <th>train_loss</th>\n",
       "      <th>valid_loss</th>\n",
       "      <th>accuracy</th>\n",
       "      <th>time</th>\n",
       "    </tr>\n",
       "  </thead>\n",
       "  <tbody>\n",
       "    <tr>\n",
       "      <td>0</td>\n",
       "      <td>3.444191</td>\n",
       "      <td>2.556527</td>\n",
       "      <td>0.498145</td>\n",
       "      <td>00:02</td>\n",
       "    </tr>\n",
       "    <tr>\n",
       "      <td>1</td>\n",
       "      <td>2.008250</td>\n",
       "      <td>1.978638</td>\n",
       "      <td>0.555078</td>\n",
       "      <td>00:02</td>\n",
       "    </tr>\n",
       "    <tr>\n",
       "      <td>2</td>\n",
       "      <td>1.349863</td>\n",
       "      <td>1.703701</td>\n",
       "      <td>0.623145</td>\n",
       "      <td>00:02</td>\n",
       "    </tr>\n",
       "    <tr>\n",
       "      <td>3</td>\n",
       "      <td>1.050668</td>\n",
       "      <td>1.347721</td>\n",
       "      <td>0.704785</td>\n",
       "      <td>00:02</td>\n",
       "    </tr>\n",
       "    <tr>\n",
       "      <td>4</td>\n",
       "      <td>0.697862</td>\n",
       "      <td>0.785333</td>\n",
       "      <td>0.835938</td>\n",
       "      <td>00:02</td>\n",
       "    </tr>\n",
       "    <tr>\n",
       "      <td>5</td>\n",
       "      <td>0.393536</td>\n",
       "      <td>0.601545</td>\n",
       "      <td>0.859766</td>\n",
       "      <td>00:02</td>\n",
       "    </tr>\n",
       "    <tr>\n",
       "      <td>6</td>\n",
       "      <td>0.219616</td>\n",
       "      <td>0.589667</td>\n",
       "      <td>0.857031</td>\n",
       "      <td>00:02</td>\n",
       "    </tr>\n",
       "    <tr>\n",
       "      <td>7</td>\n",
       "      <td>0.128497</td>\n",
       "      <td>0.675003</td>\n",
       "      <td>0.861523</td>\n",
       "      <td>00:02</td>\n",
       "    </tr>\n",
       "    <tr>\n",
       "      <td>8</td>\n",
       "      <td>0.081126</td>\n",
       "      <td>0.558522</td>\n",
       "      <td>0.861035</td>\n",
       "      <td>00:02</td>\n",
       "    </tr>\n",
       "    <tr>\n",
       "      <td>9</td>\n",
       "      <td>0.056483</td>\n",
       "      <td>0.640782</td>\n",
       "      <td>0.854590</td>\n",
       "      <td>00:02</td>\n",
       "    </tr>\n",
       "    <tr>\n",
       "      <td>10</td>\n",
       "      <td>0.042089</td>\n",
       "      <td>0.573600</td>\n",
       "      <td>0.862500</td>\n",
       "      <td>00:02</td>\n",
       "    </tr>\n",
       "    <tr>\n",
       "      <td>11</td>\n",
       "      <td>0.033039</td>\n",
       "      <td>0.591397</td>\n",
       "      <td>0.860937</td>\n",
       "      <td>00:02</td>\n",
       "    </tr>\n",
       "    <tr>\n",
       "      <td>12</td>\n",
       "      <td>0.026911</td>\n",
       "      <td>0.621479</td>\n",
       "      <td>0.861816</td>\n",
       "      <td>00:02</td>\n",
       "    </tr>\n",
       "    <tr>\n",
       "      <td>13</td>\n",
       "      <td>0.023373</td>\n",
       "      <td>0.617410</td>\n",
       "      <td>0.861914</td>\n",
       "      <td>00:02</td>\n",
       "    </tr>\n",
       "    <tr>\n",
       "      <td>14</td>\n",
       "      <td>0.021941</td>\n",
       "      <td>0.608130</td>\n",
       "      <td>0.862988</td>\n",
       "      <td>00:02</td>\n",
       "    </tr>\n",
       "  </tbody>\n",
       "</table>"
      ],
      "text/plain": [
       "<IPython.core.display.HTML object>"
      ]
     },
     "metadata": {},
     "output_type": "display_data"
    }
   ],
   "source": [
    "learn.fit_one_cycle(15, 1e-2, wd=0.1)"
   ]
  },
  {
   "cell_type": "markdown",
   "id": "471f1272-93c7-4896-98a9-3c774784078d",
   "metadata": {},
   "source": [
    "### Conclusion"
   ]
  },
  {
   "cell_type": "markdown",
   "id": "08e78569-5e4b-4c5a-aed9-f2bb4966c3cd",
   "metadata": {},
   "source": [
    "The 6th model works well wrt all the other model."
   ]
  }
 ],
 "metadata": {
  "colab": {
   "provenance": []
  },
  "kernelspec": {
   "display_name": "Python 3 (ipykernel)",
   "language": "python",
   "name": "python3"
  },
  "language_info": {
   "codemirror_mode": {
    "name": "ipython",
    "version": 3
   },
   "file_extension": ".py",
   "mimetype": "text/x-python",
   "name": "python",
   "nbconvert_exporter": "python",
   "pygments_lexer": "ipython3",
   "version": "3.9.13"
  }
 },
 "nbformat": 4,
 "nbformat_minor": 5
}
