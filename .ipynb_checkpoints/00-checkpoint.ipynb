{
  "cells": [
    {
      "cell_type": "code",
      "execution_count": null,
      "id": "e1b2c357-371c-4b1e-8cdf-2054f204974e",
      "metadata": {
        "colab": {
          "base_uri": "https://localhost:8080/"
        },
        "id": "e1b2c357-371c-4b1e-8cdf-2054f204974e",
        "outputId": "2b27224b-4522-4cdf-c78d-dd7c0f4316c9"
      },
      "outputs": [
        {
          "output_type": "stream",
          "name": "stdout",
          "text": [
            "--2022-09-06 06:01:18--  https://raw.githubusercontent.com/tripathysagar/ODIA_HUMAN_NUMBER/main/odia_digits.csv\n",
            "Resolving raw.githubusercontent.com (raw.githubusercontent.com)... 185.199.108.133, 185.199.109.133, 185.199.110.133, ...\n",
            "Connecting to raw.githubusercontent.com (raw.githubusercontent.com)|185.199.108.133|:443... connected.\n",
            "HTTP request sent, awaiting response... 200 OK\n",
            "Length: 1025379 (1001K) [text/plain]\n",
            "Saving to: ‘odia_digits.csv’\n",
            "\n",
            "odia_digits.csv     100%[===================>]   1001K  --.-KB/s    in 0.05s   \n",
            "\n",
            "2022-09-06 06:01:18 (20.6 MB/s) - ‘odia_digits.csv’ saved [1025379/1025379]\n",
            "\n"
          ]
        }
      ],
      "source": [
        "!wget https://raw.githubusercontent.com/tripathysagar/ODIA_HUMAN_NUMBER/main/odia_digits.csv"
      ]
    },
    {
      "cell_type": "code",
      "execution_count": null,
      "id": "85e07e10-6d78-4ebd-a670-21129906323d",
      "metadata": {
        "id": "85e07e10-6d78-4ebd-a670-21129906323d"
      },
      "outputs": [],
      "source": [
        "from fastai.text.all import *\n",
        "from fastai.imports import *"
      ]
    },
    {
      "cell_type": "code",
      "execution_count": null,
      "id": "8378eda2-0b9b-4a83-9b84-d3d3e016db78",
      "metadata": {
        "colab": {
          "base_uri": "https://localhost:8080/"
        },
        "id": "8378eda2-0b9b-4a83-9b84-d3d3e016db78",
        "outputId": "a46aef1b-2540-429b-c1db-cbe0cfbbdc1a"
      },
      "outputs": [
        {
          "output_type": "execute_result",
          "data": {
            "text/plain": [
              "(#2) [Path('.config'),Path('sample_data')]"
            ]
          },
          "metadata": {},
          "execution_count": 3
        }
      ],
      "source": [
        "Path().ls()"
      ]
    },
    {
      "cell_type": "code",
      "execution_count": null,
      "id": "cb7ede78-5121-420e-9500-4c724a3d0450",
      "metadata": {
        "colab": {
          "base_uri": "https://localhost:8080/",
          "height": 306
        },
        "id": "cb7ede78-5121-420e-9500-4c724a3d0450",
        "outputId": "7ed6fa8d-d10a-473c-8d3b-ce6e15261ab8"
      },
      "outputs": [
        {
          "output_type": "execute_result",
          "data": {
            "text/plain": [
              "       0    1    2     3     4      5     6     7     8    9  ...  \\\n",
              "0      ୦    ୧    ୨     ୩     ୪      ୫     ୬     ୭     ୮    ୯  ...   \n",
              "1  ଶୁନ୍ୟ   ଏକ  ଦୁଇ  ତିନି  ଚାରି  ପାଞ୍ଚ    ଛଅ   ସାତ    ଆଠ   ନଅ  ...   \n",
              "2  śunẏa  eka  dui  tini  cāri  pāṅca  chaa  sāta  āṭha  naa  ...   \n",
              "\n",
              "                10091                10092                10093  \\\n",
              "0               ୧୦୦୯୧                ୧୦୦୯୨                ୧୦୦୯୩   \n",
              "1      ଦଶ ହଜାର ଏକାନବେ       ଦଶ ହଜାର ବୟାନବେ      ଦଶ ହଜାର ତେୟାନବେ   \n",
              "2  daśa hajār ekānabe  daśa hajār baẏānabe  daśa hajār teẏānabe   \n",
              "\n",
              "                  10094                 10095                 10096  \\\n",
              "0                 ୧୦୦୯୪                 ୧୦୦୯୫                 ୧୦୦୯୬   \n",
              "1       ଦଶ ହଜାର ଚଉରାନବେ      ଦଶ ହଜାର ପଞ୍ଚାନବେ        ଦଶ ହଜାର ଛୟାନବେ   \n",
              "2  daśa hajār caurānabe  daśa hajār paṅcānabe  daśa hajār chaẏānabe   \n",
              "\n",
              "                 10097                10098               10099  \\\n",
              "0                ୧୦୦୯୭                ୧୦୦୯୮               ୧୦୦୯୯   \n",
              "1       ଦଶ ହଜାର ସତାନବେ       ଦଶ ହଜାର ଅଠାନବେ       ଦଶ ହଜାର ଅନେଶତ   \n",
              "2  daśa hajār satānabe  daśa hajār aṭhānabe  daśa hajār aneśata   \n",
              "\n",
              "             10100  \n",
              "0            ୧୦୧୦୦  \n",
              "1      ଦଶ ହଜାର ଶହେ  \n",
              "2  daśa hajār śahe  \n",
              "\n",
              "[3 rows x 10103 columns]"
            ],
            "text/html": [
              "\n",
              "  <div id=\"df-76a13617-8379-4a81-a06b-50171a2f142d\">\n",
              "    <div class=\"colab-df-container\">\n",
              "      <div>\n",
              "<style scoped>\n",
              "    .dataframe tbody tr th:only-of-type {\n",
              "        vertical-align: middle;\n",
              "    }\n",
              "\n",
              "    .dataframe tbody tr th {\n",
              "        vertical-align: top;\n",
              "    }\n",
              "\n",
              "    .dataframe thead th {\n",
              "        text-align: right;\n",
              "    }\n",
              "</style>\n",
              "<table border=\"1\" class=\"dataframe\">\n",
              "  <thead>\n",
              "    <tr style=\"text-align: right;\">\n",
              "      <th></th>\n",
              "      <th>0</th>\n",
              "      <th>1</th>\n",
              "      <th>2</th>\n",
              "      <th>3</th>\n",
              "      <th>4</th>\n",
              "      <th>5</th>\n",
              "      <th>6</th>\n",
              "      <th>7</th>\n",
              "      <th>8</th>\n",
              "      <th>9</th>\n",
              "      <th>...</th>\n",
              "      <th>10091</th>\n",
              "      <th>10092</th>\n",
              "      <th>10093</th>\n",
              "      <th>10094</th>\n",
              "      <th>10095</th>\n",
              "      <th>10096</th>\n",
              "      <th>10097</th>\n",
              "      <th>10098</th>\n",
              "      <th>10099</th>\n",
              "      <th>10100</th>\n",
              "    </tr>\n",
              "  </thead>\n",
              "  <tbody>\n",
              "    <tr>\n",
              "      <th>0</th>\n",
              "      <td>୦</td>\n",
              "      <td>୧</td>\n",
              "      <td>୨</td>\n",
              "      <td>୩</td>\n",
              "      <td>୪</td>\n",
              "      <td>୫</td>\n",
              "      <td>୬</td>\n",
              "      <td>୭</td>\n",
              "      <td>୮</td>\n",
              "      <td>୯</td>\n",
              "      <td>...</td>\n",
              "      <td>୧୦୦୯୧</td>\n",
              "      <td>୧୦୦୯୨</td>\n",
              "      <td>୧୦୦୯୩</td>\n",
              "      <td>୧୦୦୯୪</td>\n",
              "      <td>୧୦୦୯୫</td>\n",
              "      <td>୧୦୦୯୬</td>\n",
              "      <td>୧୦୦୯୭</td>\n",
              "      <td>୧୦୦୯୮</td>\n",
              "      <td>୧୦୦୯୯</td>\n",
              "      <td>୧୦୧୦୦</td>\n",
              "    </tr>\n",
              "    <tr>\n",
              "      <th>1</th>\n",
              "      <td>ଶୁନ୍ୟ</td>\n",
              "      <td>ଏକ</td>\n",
              "      <td>ଦୁଇ</td>\n",
              "      <td>ତିନି</td>\n",
              "      <td>ଚାରି</td>\n",
              "      <td>ପାଞ୍ଚ</td>\n",
              "      <td>ଛଅ</td>\n",
              "      <td>ସାତ</td>\n",
              "      <td>ଆଠ</td>\n",
              "      <td>ନଅ</td>\n",
              "      <td>...</td>\n",
              "      <td>ଦଶ ହଜାର ଏକାନବେ</td>\n",
              "      <td>ଦଶ ହଜାର ବୟାନବେ</td>\n",
              "      <td>ଦଶ ହଜାର ତେୟାନବେ</td>\n",
              "      <td>ଦଶ ହଜାର ଚଉରାନବେ</td>\n",
              "      <td>ଦଶ ହଜାର ପଞ୍ଚାନବେ</td>\n",
              "      <td>ଦଶ ହଜାର ଛୟାନବେ</td>\n",
              "      <td>ଦଶ ହଜାର ସତାନବେ</td>\n",
              "      <td>ଦଶ ହଜାର ଅଠାନବେ</td>\n",
              "      <td>ଦଶ ହଜାର ଅନେଶତ</td>\n",
              "      <td>ଦଶ ହଜାର ଶହେ</td>\n",
              "    </tr>\n",
              "    <tr>\n",
              "      <th>2</th>\n",
              "      <td>śunẏa</td>\n",
              "      <td>eka</td>\n",
              "      <td>dui</td>\n",
              "      <td>tini</td>\n",
              "      <td>cāri</td>\n",
              "      <td>pāṅca</td>\n",
              "      <td>chaa</td>\n",
              "      <td>sāta</td>\n",
              "      <td>āṭha</td>\n",
              "      <td>naa</td>\n",
              "      <td>...</td>\n",
              "      <td>daśa hajār ekānabe</td>\n",
              "      <td>daśa hajār baẏānabe</td>\n",
              "      <td>daśa hajār teẏānabe</td>\n",
              "      <td>daśa hajār caurānabe</td>\n",
              "      <td>daśa hajār paṅcānabe</td>\n",
              "      <td>daśa hajār chaẏānabe</td>\n",
              "      <td>daśa hajār satānabe</td>\n",
              "      <td>daśa hajār aṭhānabe</td>\n",
              "      <td>daśa hajār aneśata</td>\n",
              "      <td>daśa hajār śahe</td>\n",
              "    </tr>\n",
              "  </tbody>\n",
              "</table>\n",
              "<p>3 rows × 10103 columns</p>\n",
              "</div>\n",
              "      <button class=\"colab-df-convert\" onclick=\"convertToInteractive('df-76a13617-8379-4a81-a06b-50171a2f142d')\"\n",
              "              title=\"Convert this dataframe to an interactive table.\"\n",
              "              style=\"display:none;\">\n",
              "        \n",
              "  <svg xmlns=\"http://www.w3.org/2000/svg\" height=\"24px\"viewBox=\"0 0 24 24\"\n",
              "       width=\"24px\">\n",
              "    <path d=\"M0 0h24v24H0V0z\" fill=\"none\"/>\n",
              "    <path d=\"M18.56 5.44l.94 2.06.94-2.06 2.06-.94-2.06-.94-.94-2.06-.94 2.06-2.06.94zm-11 1L8.5 8.5l.94-2.06 2.06-.94-2.06-.94L8.5 2.5l-.94 2.06-2.06.94zm10 10l.94 2.06.94-2.06 2.06-.94-2.06-.94-.94-2.06-.94 2.06-2.06.94z\"/><path d=\"M17.41 7.96l-1.37-1.37c-.4-.4-.92-.59-1.43-.59-.52 0-1.04.2-1.43.59L10.3 9.45l-7.72 7.72c-.78.78-.78 2.05 0 2.83L4 21.41c.39.39.9.59 1.41.59.51 0 1.02-.2 1.41-.59l7.78-7.78 2.81-2.81c.8-.78.8-2.07 0-2.86zM5.41 20L4 18.59l7.72-7.72 1.47 1.35L5.41 20z\"/>\n",
              "  </svg>\n",
              "      </button>\n",
              "      \n",
              "  <style>\n",
              "    .colab-df-container {\n",
              "      display:flex;\n",
              "      flex-wrap:wrap;\n",
              "      gap: 12px;\n",
              "    }\n",
              "\n",
              "    .colab-df-convert {\n",
              "      background-color: #E8F0FE;\n",
              "      border: none;\n",
              "      border-radius: 50%;\n",
              "      cursor: pointer;\n",
              "      display: none;\n",
              "      fill: #1967D2;\n",
              "      height: 32px;\n",
              "      padding: 0 0 0 0;\n",
              "      width: 32px;\n",
              "    }\n",
              "\n",
              "    .colab-df-convert:hover {\n",
              "      background-color: #E2EBFA;\n",
              "      box-shadow: 0px 1px 2px rgba(60, 64, 67, 0.3), 0px 1px 3px 1px rgba(60, 64, 67, 0.15);\n",
              "      fill: #174EA6;\n",
              "    }\n",
              "\n",
              "    [theme=dark] .colab-df-convert {\n",
              "      background-color: #3B4455;\n",
              "      fill: #D2E3FC;\n",
              "    }\n",
              "\n",
              "    [theme=dark] .colab-df-convert:hover {\n",
              "      background-color: #434B5C;\n",
              "      box-shadow: 0px 1px 3px 1px rgba(0, 0, 0, 0.15);\n",
              "      filter: drop-shadow(0px 1px 2px rgba(0, 0, 0, 0.3));\n",
              "      fill: #FFFFFF;\n",
              "    }\n",
              "  </style>\n",
              "\n",
              "      <script>\n",
              "        const buttonEl =\n",
              "          document.querySelector('#df-76a13617-8379-4a81-a06b-50171a2f142d button.colab-df-convert');\n",
              "        buttonEl.style.display =\n",
              "          google.colab.kernel.accessAllowed ? 'block' : 'none';\n",
              "\n",
              "        async function convertToInteractive(key) {\n",
              "          const element = document.querySelector('#df-76a13617-8379-4a81-a06b-50171a2f142d');\n",
              "          const dataTable =\n",
              "            await google.colab.kernel.invokeFunction('convertToInteractive',\n",
              "                                                     [key], {});\n",
              "          if (!dataTable) return;\n",
              "\n",
              "          const docLinkHtml = 'Like what you see? Visit the ' +\n",
              "            '<a target=\"_blank\" href=https://colab.research.google.com/notebooks/data_table.ipynb>data table notebook</a>'\n",
              "            + ' to learn more about interactive tables.';\n",
              "          element.innerHTML = '';\n",
              "          dataTable['output_type'] = 'display_data';\n",
              "          await google.colab.output.renderOutput(dataTable, element);\n",
              "          const docLink = document.createElement('div');\n",
              "          docLink.innerHTML = docLinkHtml;\n",
              "          element.appendChild(docLink);\n",
              "        }\n",
              "      </script>\n",
              "    </div>\n",
              "  </div>\n",
              "  "
            ]
          },
          "metadata": {},
          "execution_count": 6
        }
      ],
      "source": [
        "df = pd.read_csv(Path('odia_digits.csv'), low_memory=False)\n",
        "df.head()"
      ]
    },
    {
      "cell_type": "code",
      "execution_count": null,
      "id": "1a4621f0-e792-4a2b-8f79-a619436c1e5e",
      "metadata": {
        "id": "1a4621f0-e792-4a2b-8f79-a619436c1e5e"
      },
      "outputs": [],
      "source": [
        "txt = L(df.iloc[1].tolist())"
      ]
    },
    {
      "cell_type": "code",
      "execution_count": null,
      "id": "a86e5238-a5e3-4c6c-b5a6-3a3c211b0cd5",
      "metadata": {
        "colab": {
          "base_uri": "https://localhost:8080/"
        },
        "id": "a86e5238-a5e3-4c6c-b5a6-3a3c211b0cd5",
        "outputId": "17376e8a-fdc2-47f7-8aef-1e70806e09db"
      },
      "outputs": [
        {
          "output_type": "execute_result",
          "data": {
            "text/plain": [
              "(#10103) ['ଶୁନ୍ୟ','ଏକ','ଦୁଇ','ତିନି','ଚାରି','ପାଞ୍ଚ','ଛଅ','ସାତ','ଆଠ','ନଅ'...]"
            ]
          },
          "metadata": {},
          "execution_count": 8
        }
      ],
      "source": [
        "txt"
      ]
    },
    {
      "cell_type": "code",
      "execution_count": null,
      "id": "a01b542b-0c4d-41b6-9097-6ed6fa4ff132",
      "metadata": {
        "colab": {
          "base_uri": "https://localhost:8080/",
          "height": 36
        },
        "id": "a01b542b-0c4d-41b6-9097-6ed6fa4ff132",
        "outputId": "7fb23aac-cb11-4410-f8ce-4252b759c255"
      },
      "outputs": [
        {
          "output_type": "execute_result",
          "data": {
            "text/plain": [
              "'ନଅ ଶହ ସତାନବେ'"
            ],
            "application/vnd.google.colaboratory.intrinsic+json": {
              "type": "string"
            }
          },
          "metadata": {},
          "execution_count": 9
        }
      ],
      "source": [
        "txt[1000]"
      ]
    },
    {
      "cell_type": "code",
      "execution_count": null,
      "id": "19c92aa6-b35c-4a04-959f-c869e41f24f4",
      "metadata": {
        "colab": {
          "base_uri": "https://localhost:8080/",
          "height": 53
        },
        "id": "19c92aa6-b35c-4a04-959f-c869e41f24f4",
        "outputId": "9f443aa7-ee64-4bd8-b88f-2e1bbaa96f3a"
      },
      "outputs": [
        {
          "output_type": "execute_result",
          "data": {
            "text/plain": [
              "'ଶୁନ୍ୟ . ଏକ . ଦୁଇ . ତିନି . ଚାରି . ପାଞ୍ଚ . ଛଅ . ସାତ . ଆଠ . ନଅ . ଦଶ . ଏଗାର . ବାର . ତେର . ଚଉଦ . ପନ୍ଦର . '"
            ],
            "application/vnd.google.colaboratory.intrinsic+json": {
              "type": "string"
            }
          },
          "metadata": {},
          "execution_count": 10
        }
      ],
      "source": [
        "text = ' . '.join([l.strip() for l in txt])\n",
        "text[:100]"
      ]
    },
    {
      "cell_type": "markdown",
      "id": "616c9868-6d07-40ca-8d4a-af41df98e42f",
      "metadata": {
        "id": "616c9868-6d07-40ca-8d4a-af41df98e42f"
      },
      "source": [
        "Now we need to tokenize the text"
      ]
    },
    {
      "cell_type": "code",
      "execution_count": null,
      "id": "1a070082-d3a9-467a-a498-6ccf3b175fea",
      "metadata": {
        "colab": {
          "base_uri": "https://localhost:8080/"
        },
        "id": "1a070082-d3a9-467a-a498-6ccf3b175fea",
        "outputId": "b853e30e-4a6f-4c48-dcb1-51ff6209d4c8"
      },
      "outputs": [
        {
          "output_type": "execute_result",
          "data": {
            "text/plain": [
              "['ଶୁନ୍ୟ', '.', 'ଏକ', '.', 'ଦୁଇ', '.', 'ତିନି', '.', 'ଚାରି', '.']"
            ]
          },
          "metadata": {},
          "execution_count": 11
        }
      ],
      "source": [
        "tokens = text.split(' ')\n",
        "tokens[:10]"
      ]
    },
    {
      "cell_type": "markdown",
      "id": "eaf9bb09-82fd-42f2-89a7-a17e2b5d2613",
      "metadata": {
        "id": "eaf9bb09-82fd-42f2-89a7-a17e2b5d2613"
      },
      "source": [
        "We need to fetch all the unique words "
      ]
    },
    {
      "cell_type": "code",
      "execution_count": null,
      "id": "b2b52dd3-7f87-48a7-b6c8-6055399e2f54",
      "metadata": {
        "colab": {
          "base_uri": "https://localhost:8080/"
        },
        "id": "b2b52dd3-7f87-48a7-b6c8-6055399e2f54",
        "outputId": "210438e5-11a1-47a6-8572-32651e9c7511"
      },
      "outputs": [
        {
          "output_type": "execute_result",
          "data": {
            "text/plain": [
              "(#106) ['ଶୁନ୍ୟ','.','ଏକ','ଦୁଇ','ତିନି','ଚାରି','ପାଞ୍ଚ','ଛଅ','ସାତ','ଆଠ'...]"
            ]
          },
          "metadata": {},
          "execution_count": 12
        }
      ],
      "source": [
        "vocab = L(*tokens).unique()\n",
        "vocab"
      ]
    },
    {
      "cell_type": "markdown",
      "id": "a988c64a-f6a7-4f1b-a0d9-9c77eda7c5ad",
      "metadata": {
        "id": "a988c64a-f6a7-4f1b-a0d9-9c77eda7c5ad"
      },
      "source": [
        "Convert each tokens to numbers"
      ]
    },
    {
      "cell_type": "code",
      "execution_count": null,
      "id": "f355a1c2-a9ae-43d0-81a7-8a42d63ce004",
      "metadata": {
        "colab": {
          "base_uri": "https://localhost:8080/"
        },
        "id": "f355a1c2-a9ae-43d0-81a7-8a42d63ce004",
        "outputId": "b057c0e0-7d1a-4c7f-f0bd-d1f19692ccea"
      },
      "outputs": [
        {
          "output_type": "execute_result",
          "data": {
            "text/plain": [
              "(#54307) [0,1,2,1,3,1,4,1,5,1...]"
            ]
          },
          "metadata": {},
          "execution_count": 13
        }
      ],
      "source": [
        "word2idx = {w:i for i,w in enumerate(vocab)}\n",
        "\n",
        "nums = L(word2idx[w] for w in tokens)\n",
        "nums"
      ]
    },
    {
      "cell_type": "code",
      "execution_count": null,
      "id": "afe85051-006f-4f60-9297-3b1d49e5678d",
      "metadata": {
        "colab": {
          "base_uri": "https://localhost:8080/"
        },
        "id": "afe85051-006f-4f60-9297-3b1d49e5678d",
        "outputId": "dfc4ff46-db7d-4f15-a49a-e220371d1494"
      },
      "outputs": [
        {
          "output_type": "execute_result",
          "data": {
            "text/plain": [
              "(54307, 10103)"
            ]
          },
          "metadata": {},
          "execution_count": 14
        }
      ],
      "source": [
        "len(tokens), len(txt)"
      ]
    },
    {
      "cell_type": "markdown",
      "id": "c8f3fa9d-12b2-4434-8276-88b297ba19b9",
      "metadata": {
        "id": "c8f3fa9d-12b2-4434-8276-88b297ba19b9"
      },
      "source": [
        "## Model from scratch"
      ]
    },
    {
      "cell_type": "markdown",
      "id": "a1b42fe5-919c-4753-beec-4bce8045cad6",
      "metadata": {
        "id": "a1b42fe5-919c-4753-beec-4bce8045cad6"
      },
      "source": [
        "sl = 16\n",
        "seqs = L((tensor(nums[i:i+sl]), tensor(nums[i+1:i+sl+1]))\n",
        "         for i in range(0,len(nums)-sl-1,sl))\n",
        "cut = int(len(seqs) * 0.8)\n",
        "dls = DataLoaders.from_dsets(group_chunks(seqs[:cut], bs),\n",
        "                             group_chunks(seqs[cut:], bs),\n",
        "                             bs=bs, drop_last=True, shuffle=False)"
      ]
    },
    {
      "cell_type": "code",
      "execution_count": null,
      "id": "44765968-a6c8-4faa-bf60-ff5daa47d50a",
      "metadata": {
        "id": "44765968-a6c8-4faa-bf60-ff5daa47d50a"
      },
      "outputs": [],
      "source": [
        "def group_chunks(ds, bs):\n",
        "    m = len(ds) // bs\n",
        "    new_ds = L()\n",
        "    for i in range(m): new_ds += L(ds[i + m*j] for j in range(bs))\n",
        "    return new_ds"
      ]
    },
    {
      "cell_type": "code",
      "execution_count": null,
      "id": "e328ae9d-c5bc-4c50-aa86-6611e564956f",
      "metadata": {
        "id": "e328ae9d-c5bc-4c50-aa86-6611e564956f"
      },
      "outputs": [],
      "source": [
        "sl = 16\n",
        "bs = 64\n",
        "seqs = L((tensor(nums[i:i+sl]), tensor(nums[i+1:i+sl+1]))\n",
        "         for i in range(0,len(nums)-sl-1,sl))\n",
        "cut = int(len(seqs) * 0.8)\n",
        "dls = DataLoaders.from_dsets(group_chunks(seqs[:cut], bs),\n",
        "                             group_chunks(seqs[cut:], bs),\n",
        "                             bs=bs, drop_last=True, shuffle=False)"
      ]
    },
    {
      "cell_type": "code",
      "execution_count": null,
      "id": "832ef9ca-e56d-472f-aee9-d40474946f9a",
      "metadata": {
        "colab": {
          "base_uri": "https://localhost:8080/"
        },
        "id": "832ef9ca-e56d-472f-aee9-d40474946f9a",
        "outputId": "83329477-3394-4fe5-ba9d-273247592a38"
      },
      "outputs": [
        {
          "output_type": "execute_result",
          "data": {
            "text/plain": [
              "(tensor([0, 1, 2, 1, 3, 1, 4, 1, 5, 1, 6, 1, 7, 1, 8, 1]),\n",
              " tensor([1, 2, 1, 3, 1, 4, 1, 5, 1, 6, 1, 7, 1, 8, 1, 9]))"
            ]
          },
          "metadata": {},
          "execution_count": 43
        }
      ],
      "source": [
        "seqs[0]"
      ]
    },
    {
      "cell_type": "code",
      "execution_count": null,
      "id": "75f1ded1-465d-4f68-b21a-c0801999d600",
      "metadata": {
        "id": "75f1ded1-465d-4f68-b21a-c0801999d600"
      },
      "outputs": [],
      "source": [
        "x,y = dls.train.one_batch()"
      ]
    },
    {
      "cell_type": "code",
      "execution_count": null,
      "id": "84e07e14-d5c0-4901-ad0d-091426d0aaf6",
      "metadata": {
        "colab": {
          "base_uri": "https://localhost:8080/"
        },
        "id": "84e07e14-d5c0-4901-ad0d-091426d0aaf6",
        "outputId": "f60c5405-fde5-42ed-c723-3812c12545ee"
      },
      "outputs": [
        {
          "output_type": "execute_result",
          "data": {
            "text/plain": [
              "(tensor([0, 1, 2, 1, 3, 1, 4, 1, 5, 1, 6, 1, 7, 1, 8, 1]),\n",
              " tensor([1, 2, 1, 3, 1, 4, 1, 5, 1, 6, 1, 7, 1, 8, 1, 9]))"
            ]
          },
          "metadata": {},
          "execution_count": 31
        }
      ],
      "source": [
        "x[0],y[0]"
      ]
    },
    {
      "cell_type": "code",
      "source": [
        "model =  LMModel4(len(vocab), 64)"
      ],
      "metadata": {
        "id": "2OO8X3_haEOi"
      },
      "id": "2OO8X3_haEOi",
      "execution_count": null,
      "outputs": []
    },
    {
      "cell_type": "code",
      "source": [
        "model"
      ],
      "metadata": {
        "colab": {
          "base_uri": "https://localhost:8080/"
        },
        "id": "mbiGvVRTaKtc",
        "outputId": "deb4eaac-0a2c-4782-90ca-74ba534647ec"
      },
      "id": "mbiGvVRTaKtc",
      "execution_count": null,
      "outputs": [
        {
          "output_type": "execute_result",
          "data": {
            "text/plain": [
              "LMModel4(\n",
              "  (i_h): Embedding(106, 64)\n",
              "  (h_h): Linear(in_features=64, out_features=64, bias=True)\n",
              "  (h_o): Linear(in_features=64, out_features=106, bias=True)\n",
              ")"
            ]
          },
          "metadata": {},
          "execution_count": 51
        }
      ]
    },
    {
      "cell_type": "code",
      "source": [
        "ypred = model(x)\n",
        "ypred.shape"
      ],
      "metadata": {
        "colab": {
          "base_uri": "https://localhost:8080/"
        },
        "id": "G1PhbEczaN6E",
        "outputId": "d02b4b17-8a32-47f3-c71b-4a5f4c982152"
      },
      "id": "G1PhbEczaN6E",
      "execution_count": null,
      "outputs": [
        {
          "output_type": "execute_result",
          "data": {
            "text/plain": [
              "torch.Size([64, 16, 106])"
            ]
          },
          "metadata": {},
          "execution_count": 52
        }
      ]
    },
    {
      "cell_type": "code",
      "source": [
        "ypred.view(-1, len(vocab)).shape,y.view(-1).shape"
      ],
      "metadata": {
        "colab": {
          "base_uri": "https://localhost:8080/"
        },
        "id": "daIq3KeAivDY",
        "outputId": "74b5a3f0-c320-446e-c4c8-12af9f4abc5e"
      },
      "id": "daIq3KeAivDY",
      "execution_count": null,
      "outputs": [
        {
          "output_type": "execute_result",
          "data": {
            "text/plain": [
              "(torch.Size([1024, 106]), torch.Size([1024]))"
            ]
          },
          "metadata": {},
          "execution_count": 60
        }
      ]
    },
    {
      "cell_type": "code",
      "execution_count": null,
      "id": "45cb053c-1d91-498b-ae05-753adf82b6df",
      "metadata": {
        "id": "45cb053c-1d91-498b-ae05-753adf82b6df"
      },
      "outputs": [],
      "source": [
        "class LMModel4(Module):\n",
        "    def __init__(self, vocab_sz, n_hidden):\n",
        "        self.i_h = nn.Embedding(vocab_sz, n_hidden)  \n",
        "        self.h_h = nn.Linear(n_hidden, n_hidden)     \n",
        "        self.h_o = nn.Linear(n_hidden,vocab_sz)\n",
        "        self.h = 0\n",
        "        \n",
        "    def forward(self, x):\n",
        "        outs = []\n",
        "        for i in range(sl):\n",
        "            self.h = self.h + self.i_h(x[:,i])\n",
        "            self.h = F.relu(self.h_h(self.h))\n",
        "            outs.append(self.h_o(self.h))\n",
        "        self.h = self.h.detach()\n",
        "        return torch.stack(outs, dim=1)\n",
        "    \n",
        "    def reset(self): self.h = 0"
      ]
    },
    {
      "cell_type": "code",
      "source": [
        "\n",
        "def loss_func(inp, targ):\n",
        "    return F.cross_entropy(inp.view(-1, len(vocab)), targ.view(-1))"
      ],
      "metadata": {
        "id": "lUH2cODBga_q"
      },
      "id": "lUH2cODBga_q",
      "execution_count": null,
      "outputs": []
    },
    {
      "cell_type": "code",
      "execution_count": null,
      "id": "e5462eea-62c7-4f51-b7f2-c8822044b384",
      "metadata": {
        "colab": {
          "base_uri": "https://localhost:8080/",
          "height": 426
        },
        "id": "e5462eea-62c7-4f51-b7f2-c8822044b384",
        "outputId": "25f50eb1-4c39-4c51-89de-add269d846a5"
      },
      "outputs": [
        {
          "output_type": "display_data",
          "data": {
            "text/plain": [
              "<IPython.core.display.HTML object>"
            ],
            "text/html": [
              "\n",
              "<style>\n",
              "    /* Turns off some styling */\n",
              "    progress {\n",
              "        /* gets rid of default border in Firefox and Opera. */\n",
              "        border: none;\n",
              "        /* Needs to be in here for Safari polyfill so background images work as expected. */\n",
              "        background-size: auto;\n",
              "    }\n",
              "    progress:not([value]), progress:not([value])::-webkit-progress-bar {\n",
              "        background: repeating-linear-gradient(45deg, #7e7e7e, #7e7e7e 10px, #5c5c5c 10px, #5c5c5c 20px);\n",
              "    }\n",
              "    .progress-bar-interrupted, .progress-bar-interrupted::-webkit-progress-bar {\n",
              "        background: #F44336;\n",
              "    }\n",
              "</style>\n"
            ]
          },
          "metadata": {}
        },
        {
          "output_type": "display_data",
          "data": {
            "text/plain": [
              "<IPython.core.display.HTML object>"
            ],
            "text/html": [
              "<table border=\"1\" class=\"dataframe\">\n",
              "  <thead>\n",
              "    <tr style=\"text-align: left;\">\n",
              "      <th>epoch</th>\n",
              "      <th>train_loss</th>\n",
              "      <th>valid_loss</th>\n",
              "      <th>accuracy</th>\n",
              "      <th>time</th>\n",
              "    </tr>\n",
              "  </thead>\n",
              "  <tbody>\n",
              "    <tr>\n",
              "      <td>0</td>\n",
              "      <td>4.365939</td>\n",
              "      <td>3.956262</td>\n",
              "      <td>0.332715</td>\n",
              "      <td>00:00</td>\n",
              "    </tr>\n",
              "    <tr>\n",
              "      <td>1</td>\n",
              "      <td>2.920906</td>\n",
              "      <td>2.312237</td>\n",
              "      <td>0.490820</td>\n",
              "      <td>00:00</td>\n",
              "    </tr>\n",
              "    <tr>\n",
              "      <td>2</td>\n",
              "      <td>2.170968</td>\n",
              "      <td>2.300662</td>\n",
              "      <td>0.485156</td>\n",
              "      <td>00:00</td>\n",
              "    </tr>\n",
              "    <tr>\n",
              "      <td>3</td>\n",
              "      <td>1.803861</td>\n",
              "      <td>2.219066</td>\n",
              "      <td>0.471875</td>\n",
              "      <td>00:00</td>\n",
              "    </tr>\n",
              "    <tr>\n",
              "      <td>4</td>\n",
              "      <td>1.589338</td>\n",
              "      <td>2.422332</td>\n",
              "      <td>0.561133</td>\n",
              "      <td>00:00</td>\n",
              "    </tr>\n",
              "    <tr>\n",
              "      <td>5</td>\n",
              "      <td>1.414888</td>\n",
              "      <td>2.526973</td>\n",
              "      <td>0.584180</td>\n",
              "      <td>00:00</td>\n",
              "    </tr>\n",
              "    <tr>\n",
              "      <td>6</td>\n",
              "      <td>1.261044</td>\n",
              "      <td>2.380302</td>\n",
              "      <td>0.597363</td>\n",
              "      <td>00:00</td>\n",
              "    </tr>\n",
              "    <tr>\n",
              "      <td>7</td>\n",
              "      <td>1.145071</td>\n",
              "      <td>2.572966</td>\n",
              "      <td>0.579199</td>\n",
              "      <td>00:00</td>\n",
              "    </tr>\n",
              "    <tr>\n",
              "      <td>8</td>\n",
              "      <td>1.053374</td>\n",
              "      <td>2.227016</td>\n",
              "      <td>0.622363</td>\n",
              "      <td>00:00</td>\n",
              "    </tr>\n",
              "    <tr>\n",
              "      <td>9</td>\n",
              "      <td>0.979998</td>\n",
              "      <td>2.458484</td>\n",
              "      <td>0.611719</td>\n",
              "      <td>00:00</td>\n",
              "    </tr>\n",
              "    <tr>\n",
              "      <td>10</td>\n",
              "      <td>0.934947</td>\n",
              "      <td>2.314942</td>\n",
              "      <td>0.624609</td>\n",
              "      <td>00:00</td>\n",
              "    </tr>\n",
              "    <tr>\n",
              "      <td>11</td>\n",
              "      <td>0.908022</td>\n",
              "      <td>2.355359</td>\n",
              "      <td>0.620508</td>\n",
              "      <td>00:00</td>\n",
              "    </tr>\n",
              "  </tbody>\n",
              "</table>"
            ]
          },
          "metadata": {}
        }
      ],
      "source": [
        "learn = Learner(dls, LMModel4(len(vocab), 64), loss_func=loss_func,\n",
        "                metrics=accuracy, cbs=ModelResetter)\n",
        "learn.fit_one_cycle(12, 3e-3)"
      ]
    },
    {
      "cell_type": "code",
      "execution_count": null,
      "id": "f2003fc7-239b-43a5-bca3-fe92539ec6c5",
      "metadata": {
        "colab": {
          "base_uri": "https://localhost:8080/",
          "height": 311
        },
        "id": "f2003fc7-239b-43a5-bca3-fe92539ec6c5",
        "outputId": "0b262d51-4bf4-43ce-90ae-610dd516e81c"
      },
      "outputs": [
        {
          "output_type": "error",
          "ename": "AttributeError",
          "evalue": "ignored",
          "traceback": [
            "\u001b[0;31m---------------------------------------------------------------------------\u001b[0m",
            "\u001b[0;31mAttributeError\u001b[0m                            Traceback (most recent call last)",
            "\u001b[0;32m<ipython-input-66-fa5b61306ef3>\u001b[0m in \u001b[0;36m<module>\u001b[0;34m\u001b[0m\n\u001b[0;32m----> 1\u001b[0;31m \u001b[0mlearn\u001b[0m\u001b[0;34m.\u001b[0m\u001b[0mexport\u001b[0m\u001b[0;34m(\u001b[0m\u001b[0;34m)\u001b[0m\u001b[0;34m\u001b[0m\u001b[0;34m\u001b[0m\u001b[0m\n\u001b[0m",
            "\u001b[0;32m/usr/local/lib/python3.7/dist-packages/fastai/learner.py\u001b[0m in \u001b[0;36mexport\u001b[0;34m(self, fname, pickle_module, pickle_protocol)\u001b[0m\n\u001b[1;32m    410\u001b[0m     \u001b[0mself\u001b[0m\u001b[0;34m.\u001b[0m\u001b[0m_end_cleanup\u001b[0m\u001b[0;34m(\u001b[0m\u001b[0;34m)\u001b[0m\u001b[0;34m\u001b[0m\u001b[0;34m\u001b[0m\u001b[0m\n\u001b[1;32m    411\u001b[0m     \u001b[0mold_dbunch\u001b[0m \u001b[0;34m=\u001b[0m \u001b[0mself\u001b[0m\u001b[0;34m.\u001b[0m\u001b[0mdls\u001b[0m\u001b[0;34m\u001b[0m\u001b[0;34m\u001b[0m\u001b[0m\n\u001b[0;32m--> 412\u001b[0;31m     \u001b[0mself\u001b[0m\u001b[0;34m.\u001b[0m\u001b[0mdls\u001b[0m \u001b[0;34m=\u001b[0m \u001b[0mself\u001b[0m\u001b[0;34m.\u001b[0m\u001b[0mdls\u001b[0m\u001b[0;34m.\u001b[0m\u001b[0mnew_empty\u001b[0m\u001b[0;34m(\u001b[0m\u001b[0;34m)\u001b[0m\u001b[0;34m\u001b[0m\u001b[0;34m\u001b[0m\u001b[0m\n\u001b[0m\u001b[1;32m    413\u001b[0m     \u001b[0mstate\u001b[0m \u001b[0;34m=\u001b[0m \u001b[0mself\u001b[0m\u001b[0;34m.\u001b[0m\u001b[0mopt\u001b[0m\u001b[0;34m.\u001b[0m\u001b[0mstate_dict\u001b[0m\u001b[0;34m(\u001b[0m\u001b[0;34m)\u001b[0m \u001b[0;32mif\u001b[0m \u001b[0mself\u001b[0m\u001b[0;34m.\u001b[0m\u001b[0mopt\u001b[0m \u001b[0;32mis\u001b[0m \u001b[0;32mnot\u001b[0m \u001b[0;32mNone\u001b[0m \u001b[0;32melse\u001b[0m \u001b[0;32mNone\u001b[0m\u001b[0;34m\u001b[0m\u001b[0;34m\u001b[0m\u001b[0m\n\u001b[1;32m    414\u001b[0m     \u001b[0mself\u001b[0m\u001b[0;34m.\u001b[0m\u001b[0mopt\u001b[0m \u001b[0;34m=\u001b[0m \u001b[0;32mNone\u001b[0m\u001b[0;34m\u001b[0m\u001b[0;34m\u001b[0m\u001b[0m\n",
            "\u001b[0;32m/usr/local/lib/python3.7/dist-packages/fastai/data/core.py\u001b[0m in \u001b[0;36mnew_empty\u001b[0;34m(self)\u001b[0m\n\u001b[1;32m    209\u001b[0m     \u001b[0;32mdef\u001b[0m \u001b[0m__len__\u001b[0m\u001b[0;34m(\u001b[0m\u001b[0mself\u001b[0m\u001b[0;34m)\u001b[0m\u001b[0;34m:\u001b[0m \u001b[0;32mreturn\u001b[0m \u001b[0mlen\u001b[0m\u001b[0;34m(\u001b[0m\u001b[0mself\u001b[0m\u001b[0;34m.\u001b[0m\u001b[0mloaders\u001b[0m\u001b[0;34m)\u001b[0m\u001b[0;34m\u001b[0m\u001b[0;34m\u001b[0m\u001b[0m\n\u001b[1;32m    210\u001b[0m     \u001b[0;32mdef\u001b[0m \u001b[0mnew_empty\u001b[0m\u001b[0;34m(\u001b[0m\u001b[0mself\u001b[0m\u001b[0;34m)\u001b[0m\u001b[0;34m:\u001b[0m\u001b[0;34m\u001b[0m\u001b[0;34m\u001b[0m\u001b[0m\n\u001b[0;32m--> 211\u001b[0;31m         \u001b[0mloaders\u001b[0m \u001b[0;34m=\u001b[0m \u001b[0;34m[\u001b[0m\u001b[0mdl\u001b[0m\u001b[0;34m.\u001b[0m\u001b[0mnew\u001b[0m\u001b[0;34m(\u001b[0m\u001b[0mdl\u001b[0m\u001b[0;34m.\u001b[0m\u001b[0mdataset\u001b[0m\u001b[0;34m.\u001b[0m\u001b[0mnew_empty\u001b[0m\u001b[0;34m(\u001b[0m\u001b[0;34m)\u001b[0m\u001b[0;34m)\u001b[0m \u001b[0;32mfor\u001b[0m \u001b[0mdl\u001b[0m \u001b[0;32min\u001b[0m \u001b[0mself\u001b[0m\u001b[0;34m.\u001b[0m\u001b[0mloaders\u001b[0m\u001b[0;34m]\u001b[0m\u001b[0;34m\u001b[0m\u001b[0;34m\u001b[0m\u001b[0m\n\u001b[0m\u001b[1;32m    212\u001b[0m         \u001b[0;32mreturn\u001b[0m \u001b[0mtype\u001b[0m\u001b[0;34m(\u001b[0m\u001b[0mself\u001b[0m\u001b[0;34m)\u001b[0m\u001b[0;34m(\u001b[0m\u001b[0;34m*\u001b[0m\u001b[0mloaders\u001b[0m\u001b[0;34m,\u001b[0m \u001b[0mpath\u001b[0m\u001b[0;34m=\u001b[0m\u001b[0mself\u001b[0m\u001b[0;34m.\u001b[0m\u001b[0mpath\u001b[0m\u001b[0;34m,\u001b[0m \u001b[0mdevice\u001b[0m\u001b[0;34m=\u001b[0m\u001b[0mself\u001b[0m\u001b[0;34m.\u001b[0m\u001b[0mdevice\u001b[0m\u001b[0;34m)\u001b[0m\u001b[0;34m\u001b[0m\u001b[0;34m\u001b[0m\u001b[0m\n\u001b[1;32m    213\u001b[0m \u001b[0;34m\u001b[0m\u001b[0m\n",
            "\u001b[0;32m/usr/local/lib/python3.7/dist-packages/fastai/data/core.py\u001b[0m in \u001b[0;36m<listcomp>\u001b[0;34m(.0)\u001b[0m\n\u001b[1;32m    209\u001b[0m     \u001b[0;32mdef\u001b[0m \u001b[0m__len__\u001b[0m\u001b[0;34m(\u001b[0m\u001b[0mself\u001b[0m\u001b[0;34m)\u001b[0m\u001b[0;34m:\u001b[0m \u001b[0;32mreturn\u001b[0m \u001b[0mlen\u001b[0m\u001b[0;34m(\u001b[0m\u001b[0mself\u001b[0m\u001b[0;34m.\u001b[0m\u001b[0mloaders\u001b[0m\u001b[0;34m)\u001b[0m\u001b[0;34m\u001b[0m\u001b[0;34m\u001b[0m\u001b[0m\n\u001b[1;32m    210\u001b[0m     \u001b[0;32mdef\u001b[0m \u001b[0mnew_empty\u001b[0m\u001b[0;34m(\u001b[0m\u001b[0mself\u001b[0m\u001b[0;34m)\u001b[0m\u001b[0;34m:\u001b[0m\u001b[0;34m\u001b[0m\u001b[0;34m\u001b[0m\u001b[0m\n\u001b[0;32m--> 211\u001b[0;31m         \u001b[0mloaders\u001b[0m \u001b[0;34m=\u001b[0m \u001b[0;34m[\u001b[0m\u001b[0mdl\u001b[0m\u001b[0;34m.\u001b[0m\u001b[0mnew\u001b[0m\u001b[0;34m(\u001b[0m\u001b[0mdl\u001b[0m\u001b[0;34m.\u001b[0m\u001b[0mdataset\u001b[0m\u001b[0;34m.\u001b[0m\u001b[0mnew_empty\u001b[0m\u001b[0;34m(\u001b[0m\u001b[0;34m)\u001b[0m\u001b[0;34m)\u001b[0m \u001b[0;32mfor\u001b[0m \u001b[0mdl\u001b[0m \u001b[0;32min\u001b[0m \u001b[0mself\u001b[0m\u001b[0;34m.\u001b[0m\u001b[0mloaders\u001b[0m\u001b[0;34m]\u001b[0m\u001b[0;34m\u001b[0m\u001b[0;34m\u001b[0m\u001b[0m\n\u001b[0m\u001b[1;32m    212\u001b[0m         \u001b[0;32mreturn\u001b[0m \u001b[0mtype\u001b[0m\u001b[0;34m(\u001b[0m\u001b[0mself\u001b[0m\u001b[0;34m)\u001b[0m\u001b[0;34m(\u001b[0m\u001b[0;34m*\u001b[0m\u001b[0mloaders\u001b[0m\u001b[0;34m,\u001b[0m \u001b[0mpath\u001b[0m\u001b[0;34m=\u001b[0m\u001b[0mself\u001b[0m\u001b[0;34m.\u001b[0m\u001b[0mpath\u001b[0m\u001b[0;34m,\u001b[0m \u001b[0mdevice\u001b[0m\u001b[0;34m=\u001b[0m\u001b[0mself\u001b[0m\u001b[0;34m.\u001b[0m\u001b[0mdevice\u001b[0m\u001b[0;34m)\u001b[0m\u001b[0;34m\u001b[0m\u001b[0;34m\u001b[0m\u001b[0m\n\u001b[1;32m    213\u001b[0m \u001b[0;34m\u001b[0m\u001b[0m\n",
            "\u001b[0;32m/usr/local/lib/python3.7/dist-packages/fastcore/basics.py\u001b[0m in \u001b[0;36m__getattr__\u001b[0;34m(self, k)\u001b[0m\n\u001b[1;32m    489\u001b[0m         \u001b[0;32mif\u001b[0m \u001b[0mself\u001b[0m\u001b[0;34m.\u001b[0m\u001b[0m_component_attr_filter\u001b[0m\u001b[0;34m(\u001b[0m\u001b[0mk\u001b[0m\u001b[0;34m)\u001b[0m\u001b[0;34m:\u001b[0m\u001b[0;34m\u001b[0m\u001b[0;34m\u001b[0m\u001b[0m\n\u001b[1;32m    490\u001b[0m             \u001b[0mattr\u001b[0m \u001b[0;34m=\u001b[0m \u001b[0mgetattr\u001b[0m\u001b[0;34m(\u001b[0m\u001b[0mself\u001b[0m\u001b[0;34m,\u001b[0m\u001b[0mself\u001b[0m\u001b[0;34m.\u001b[0m\u001b[0m_default\u001b[0m\u001b[0;34m,\u001b[0m\u001b[0;32mNone\u001b[0m\u001b[0;34m)\u001b[0m\u001b[0;34m\u001b[0m\u001b[0;34m\u001b[0m\u001b[0m\n\u001b[0;32m--> 491\u001b[0;31m             \u001b[0;32mif\u001b[0m \u001b[0mattr\u001b[0m \u001b[0;32mis\u001b[0m \u001b[0;32mnot\u001b[0m \u001b[0;32mNone\u001b[0m\u001b[0;34m:\u001b[0m \u001b[0;32mreturn\u001b[0m \u001b[0mgetattr\u001b[0m\u001b[0;34m(\u001b[0m\u001b[0mattr\u001b[0m\u001b[0;34m,\u001b[0m\u001b[0mk\u001b[0m\u001b[0;34m)\u001b[0m\u001b[0;34m\u001b[0m\u001b[0;34m\u001b[0m\u001b[0m\n\u001b[0m\u001b[1;32m    492\u001b[0m         \u001b[0;32mraise\u001b[0m \u001b[0mAttributeError\u001b[0m\u001b[0;34m(\u001b[0m\u001b[0mk\u001b[0m\u001b[0;34m)\u001b[0m\u001b[0;34m\u001b[0m\u001b[0;34m\u001b[0m\u001b[0m\n\u001b[1;32m    493\u001b[0m     \u001b[0;32mdef\u001b[0m \u001b[0m__dir__\u001b[0m\u001b[0;34m(\u001b[0m\u001b[0mself\u001b[0m\u001b[0;34m)\u001b[0m\u001b[0;34m:\u001b[0m \u001b[0;32mreturn\u001b[0m \u001b[0mcustom_dir\u001b[0m\u001b[0;34m(\u001b[0m\u001b[0mself\u001b[0m\u001b[0;34m,\u001b[0m\u001b[0mself\u001b[0m\u001b[0;34m.\u001b[0m\u001b[0m_dir\u001b[0m\u001b[0;34m(\u001b[0m\u001b[0;34m)\u001b[0m\u001b[0;34m)\u001b[0m\u001b[0;34m\u001b[0m\u001b[0;34m\u001b[0m\u001b[0m\n",
            "\u001b[0;31mAttributeError\u001b[0m: 'list' object has no attribute 'new_empty'"
          ]
        }
      ],
      "source": [
        "learn.export()"
      ]
    },
    {
      "cell_type": "code",
      "source": [
        "CrossEntropyLossFlat?"
      ],
      "metadata": {
        "id": "r9zGqLZPZIZV"
      },
      "id": "r9zGqLZPZIZV",
      "execution_count": null,
      "outputs": []
    },
    {
      "cell_type": "code",
      "source": [],
      "metadata": {
        "id": "0mU8IfJ9tBj9"
      },
      "id": "0mU8IfJ9tBj9",
      "execution_count": null,
      "outputs": []
    }
  ],
  "metadata": {
    "kernelspec": {
      "display_name": "Python 3 (ipykernel)",
      "language": "python",
      "name": "python3"
    },
    "language_info": {
      "codemirror_mode": {
        "name": "ipython",
        "version": 3
      },
      "file_extension": ".py",
      "mimetype": "text/x-python",
      "name": "python",
      "nbconvert_exporter": "python",
      "pygments_lexer": "ipython3",
      "version": "3.9.13"
    },
    "colab": {
      "provenance": []
    }
  },
  "nbformat": 4,
  "nbformat_minor": 5
}